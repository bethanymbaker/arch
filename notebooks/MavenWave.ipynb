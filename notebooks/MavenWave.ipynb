{
 "cells": [
  {
   "cell_type": "code",
   "execution_count": 204,
   "metadata": {},
   "outputs": [],
   "source": [
    "import pandas as pd\n",
    "import numpy as np\n",
    "import matplotlib.pyplot as plt\n",
    "import seaborn as sns\n",
    "from sklearn import preprocessing\n",
    "from xgboost import XGBClassifier\n",
    "from sklearn.model_selection import GridSearchCV, train_test_split \n",
    "from sklearn.metrics import classification_report, roc_auc_score, plot_roc_curve\n",
    "\n",
    "pd.set_option('display.max_rows', 500)\n",
    "pd.set_option('display.max_columns', 500)\n",
    "pd.set_option('display.width', 150)\n",
    "pd.set_option('display.max_colwidth', 100)"
   ]
  },
  {
   "cell_type": "code",
   "execution_count": null,
   "metadata": {},
   "outputs": [],
   "source": [
    "import sys\n",
    "!{sys.executable} -m pip install dask \n",
    "# !{sys.executable} -m pip install scikit-learn --upgrade"
   ]
  },
  {
   "cell_type": "code",
   "execution_count": 48,
   "metadata": {},
   "outputs": [
    {
     "name": "stdout",
     "output_type": "stream",
     "text": [
      "(10000, 27)\n"
     ]
    },
    {
     "data": {
      "text/html": [
       "<div>\n",
       "<style scoped>\n",
       "    .dataframe tbody tr th:only-of-type {\n",
       "        vertical-align: middle;\n",
       "    }\n",
       "\n",
       "    .dataframe tbody tr th {\n",
       "        vertical-align: top;\n",
       "    }\n",
       "\n",
       "    .dataframe thead th {\n",
       "        text-align: right;\n",
       "    }\n",
       "</style>\n",
       "<table border=\"1\" class=\"dataframe\">\n",
       "  <thead>\n",
       "    <tr style=\"text-align: right;\">\n",
       "      <th></th>\n",
       "      <th>is_bad</th>\n",
       "      <th>emp_title</th>\n",
       "      <th>emp_length</th>\n",
       "      <th>home_ownership</th>\n",
       "      <th>annual_inc</th>\n",
       "      <th>verification_status</th>\n",
       "      <th>pymnt_plan</th>\n",
       "      <th>Notes</th>\n",
       "      <th>purpose_cat</th>\n",
       "      <th>purpose</th>\n",
       "      <th>zip_code</th>\n",
       "      <th>addr_state</th>\n",
       "      <th>debt_to_income</th>\n",
       "      <th>delinq_2yrs</th>\n",
       "      <th>earliest_cr_line</th>\n",
       "      <th>inq_last_6mths</th>\n",
       "      <th>mths_since_last_delinq</th>\n",
       "      <th>mths_since_last_record</th>\n",
       "      <th>open_acc</th>\n",
       "      <th>pub_rec</th>\n",
       "      <th>revol_bal</th>\n",
       "      <th>revol_util</th>\n",
       "      <th>total_acc</th>\n",
       "      <th>initial_list_status</th>\n",
       "      <th>collections_12_mths_ex_med</th>\n",
       "      <th>mths_since_last_major_derog</th>\n",
       "      <th>policy_code</th>\n",
       "    </tr>\n",
       "    <tr>\n",
       "      <th>Id</th>\n",
       "      <th></th>\n",
       "      <th></th>\n",
       "      <th></th>\n",
       "      <th></th>\n",
       "      <th></th>\n",
       "      <th></th>\n",
       "      <th></th>\n",
       "      <th></th>\n",
       "      <th></th>\n",
       "      <th></th>\n",
       "      <th></th>\n",
       "      <th></th>\n",
       "      <th></th>\n",
       "      <th></th>\n",
       "      <th></th>\n",
       "      <th></th>\n",
       "      <th></th>\n",
       "      <th></th>\n",
       "      <th></th>\n",
       "      <th></th>\n",
       "      <th></th>\n",
       "      <th></th>\n",
       "      <th></th>\n",
       "      <th></th>\n",
       "      <th></th>\n",
       "      <th></th>\n",
       "      <th></th>\n",
       "    </tr>\n",
       "  </thead>\n",
       "  <tbody>\n",
       "    <tr>\n",
       "      <th>2879</th>\n",
       "      <td>False</td>\n",
       "      <td>Maintenance Builders Supply</td>\n",
       "      <td>10</td>\n",
       "      <td>MORTGAGE</td>\n",
       "      <td>159960.0</td>\n",
       "      <td>VERIFIED - income source</td>\n",
       "      <td>n</td>\n",
       "      <td>NaN</td>\n",
       "      <td>debt consolidation</td>\n",
       "      <td>Debit Consolidation</td>\n",
       "      <td>774xx</td>\n",
       "      <td>TX</td>\n",
       "      <td>2.4</td>\n",
       "      <td>0.0</td>\n",
       "      <td>1980-06-01</td>\n",
       "      <td>0.0</td>\n",
       "      <td>28.0</td>\n",
       "      <td>NaN</td>\n",
       "      <td>6.0</td>\n",
       "      <td>0.0</td>\n",
       "      <td>2192</td>\n",
       "      <td>14.6</td>\n",
       "      <td>17.0</td>\n",
       "      <td>f</td>\n",
       "      <td>0.0</td>\n",
       "      <td>2</td>\n",
       "      <td>PC5</td>\n",
       "    </tr>\n",
       "  </tbody>\n",
       "</table>\n",
       "</div>"
      ],
      "text/plain": [
       "      is_bad                    emp_title emp_length home_ownership  annual_inc       verification_status pymnt_plan Notes         purpose_cat  \\\n",
       "Id                                                                                                                                               \n",
       "2879   False  Maintenance Builders Supply         10       MORTGAGE    159960.0  VERIFIED - income source          n   NaN  debt consolidation   \n",
       "\n",
       "                  purpose zip_code addr_state  debt_to_income  delinq_2yrs earliest_cr_line  inq_last_6mths  mths_since_last_delinq  \\\n",
       "Id                                                                                                                                    \n",
       "2879  Debit Consolidation    774xx         TX             2.4          0.0       1980-06-01             0.0                    28.0   \n",
       "\n",
       "      mths_since_last_record  open_acc  pub_rec  revol_bal  revol_util  total_acc initial_list_status  collections_12_mths_ex_med  \\\n",
       "Id                                                                                                                                  \n",
       "2879                     NaN       6.0      0.0       2192        14.6       17.0                   f                         0.0   \n",
       "\n",
       "      mths_since_last_major_derog policy_code  \n",
       "Id                                             \n",
       "2879                            2         PC5  "
      ]
     },
     "execution_count": 48,
     "metadata": {},
     "output_type": "execute_result"
    }
   ],
   "source": [
    "df = pd.read_csv('~/Desktop/maven_wave/Baker - Lending Club Data - DR_Demo_Lending_Club.csv',\n",
    "                 index_col='Id',\n",
    "                 parse_dates=['earliest_cr_line'],\n",
    "                 dtype={'is_bad': bool})\n",
    "print(df.shape)\n",
    "df.sample()"
   ]
  },
  {
   "cell_type": "code",
   "execution_count": 87,
   "metadata": {},
   "outputs": [
    {
     "data": {
      "text/plain": [
       "False    0.8705\n",
       "True     0.1295\n",
       "Name: is_bad, dtype: float64"
      ]
     },
     "execution_count": 87,
     "metadata": {},
     "output_type": "execute_result"
    }
   ],
   "source": [
    "# Distribution of response variable\n",
    "df.is_bad.value_counts(normalize=True)"
   ]
  },
  {
   "cell_type": "code",
   "execution_count": 50,
   "metadata": {},
   "outputs": [
    {
     "data": {
      "text/plain": [
       "object            12\n",
       "float64           11\n",
       "int64              2\n",
       "bool               2\n",
       "datetime64[ns]     1\n",
       "dtype: int64"
      ]
     },
     "execution_count": 50,
     "metadata": {},
     "output_type": "execute_result"
    }
   ],
   "source": [
    "# Some featurization/data cleanup\n",
    "df.loc[df.earliest_cr_line >= pd.to_datetime('2020-01-01'), 'earliest_cr_line'] = pd.NaT\n",
    "df['earliest_cr_cohort'] = df.earliest_cr_line.dt.strftime('%Y')\n",
    "df['pymnt_plan'] = df.pymnt_plan.map({'y': True, 'n': False})\n",
    "df.dtypes.value_counts()"
   ]
  },
  {
   "cell_type": "code",
   "execution_count": 9,
   "metadata": {},
   "outputs": [
    {
     "data": {
      "image/png": "[encoded data removed]",
      "text/plain": [
       "<Figure size 432x288 with 1 Axes>"
      ]
     },
     "metadata": {
      "needs_background": "light"
     },
     "output_type": "display_data"
    }
   ],
   "source": [
    "df.groupby('earliest_cr_cohort').size().plot(grid=True, label='num_loans')\n",
    "plt.legend()\n",
    "plt.title('Year of Earliest Credit Line');"
   ]
  },
  {
   "cell_type": "code",
   "execution_count": 10,
   "metadata": {},
   "outputs": [
    {
     "data": {
      "text/plain": [
       "pymnt_plan                     10000\n",
       "mths_since_last_record          9160\n",
       "mths_since_last_delinq          6316\n",
       "Notes                           3230\n",
       "emp_title                        592\n",
       "earliest_cr_cohort                40\n",
       "earliest_cr_line                  40\n",
       "collections_12_mths_ex_med        32\n",
       "revol_util                        26\n",
       "inq_last_6mths                     5\n",
       "delinq_2yrs                        5\n",
       "open_acc                           5\n",
       "pub_rec                            5\n",
       "total_acc                          5\n",
       "purpose                            4\n",
       "annual_inc                         1\n",
       "initial_list_status                0\n",
       "mths_since_last_major_derog        0\n",
       "emp_length                         0\n",
       "home_ownership                     0\n",
       "verification_status                0\n",
       "purpose_cat                        0\n",
       "zip_code                           0\n",
       "addr_state                         0\n",
       "debt_to_income                     0\n",
       "policy_code                        0\n",
       "revol_bal                          0\n",
       "is_bad                             0\n",
       "dtype: int64"
      ]
     },
     "execution_count": 10,
     "metadata": {},
     "output_type": "execute_result"
    }
   ],
   "source": [
    "df.isna().sum().sort_values(ascending=False)"
   ]
  },
  {
   "cell_type": "code",
   "execution_count": 36,
   "metadata": {},
   "outputs": [
    {
     "data": {
      "image/png": "[encoded data removed]",
      "text/plain": [
       "<Figure size 576x432 with 2 Axes>"
      ]
     },
     "metadata": {
      "needs_background": "light"
     },
     "output_type": "display_data"
    }
   ],
   "source": [
    "f, (ax1, ax2) = plt.subplots(1, 2, figsize=(8, 6))\n",
    "df.select_dtypes(include='object').nunique().sort_values(ascending=False).iloc[:4].plot(kind='bar', grid=True, ax=ax1)\n",
    "plt.setp(ax1.get_xticklabels(), rotation=45, ha='right')\n",
    "\n",
    "df.select_dtypes(include='object').nunique().sort_values(ascending=False).iloc[4:].plot(kind='bar', grid=True, ax=ax2)\n",
    "plt.setp(ax2.get_xticklabels(), rotation=45, ha='right')\n",
    "plt.gcf().tight_layout()"
   ]
  },
  {
   "cell_type": "code",
   "execution_count": 135,
   "metadata": {},
   "outputs": [
    {
     "name": "stdout",
     "output_type": "stream",
     "text": [
      "['zip_code', 'addr_state', 'earliest_cr_cohort', 'purpose_cat', 'emp_length', 'policy_code', 'home_ownership', 'verification_status', 'initial_list_status']\n"
     ]
    }
   ],
   "source": [
    "obj_cols_to_use = df.select_dtypes(include='object').nunique().sort_values(ascending=False).iloc[3:].index.values.tolist()\n",
    "print(obj_cols_to_use)"
   ]
  },
  {
   "cell_type": "code",
   "execution_count": 12,
   "metadata": {},
   "outputs": [
    {
     "data": {
      "image/png": "[encoded data removed]",
      "text/plain": [
       "<Figure size 576x432 with 2 Axes>"
      ]
     },
     "metadata": {
      "needs_background": "light"
     },
     "output_type": "display_data"
    }
   ],
   "source": [
    "plt.figure(figsize=(8, 6))\n",
    "corr = df.select_dtypes(include=[np.number, bool]).drop(columns=['collections_12_mths_ex_med']).corr()\n",
    "sns.heatmap(corr, annot=False, cmap=plt.cm.Reds)\n",
    "plt.xticks(rotation=45, ha='right')\n",
    "plt.gcf().tight_layout()"
   ]
  },
  {
   "cell_type": "code",
   "execution_count": 20,
   "metadata": {},
   "outputs": [
    {
     "data": {
      "image/png": "[encoded data removed]",
      "text/plain": [
       "<Figure size 720x576 with 1 Axes>"
      ]
     },
     "metadata": {
      "needs_background": "light"
     },
     "output_type": "display_data"
    }
   ],
   "source": [
    "corr_2 = corr.unstack().to_frame('value').reset_index()\n",
    "corr_2 = corr_2[corr_2.level_0 != corr_2.level_1]\n",
    "\n",
    "tmp = corr_2[corr_2.level_0 == 'is_bad'].rename(columns={'level_1': 'feature'}).set_index('feature')[\n",
    "    ['value']].sort_values('value', ascending=False)\n",
    "tmp.plot(kind='bar', grid=True, legend=None, figsize=(10,8))\n",
    "plt.title('Correlation to is_bad')\n",
    "plt.xticks(rotation='45', ha='right')\n",
    "plt.gcf().tight_layout()"
   ]
  },
  {
   "cell_type": "code",
   "execution_count": 17,
   "metadata": {},
   "outputs": [
    {
     "data": {
      "image/png": "[encoded data removed]",
      "text/plain": [
       "<Figure size 432x288 with 1 Axes>"
      ]
     },
     "metadata": {
      "needs_background": "light"
     },
     "output_type": "display_data"
    }
   ],
   "source": [
    "corr_2['features_set'] = corr_2.apply(lambda row: str(sorted([row.level_0, row.level_1])), axis=1)\n",
    "corr_2 = corr_2.drop_duplicates(subset=['features_set']) \\\n",
    "    .drop(columns=['level_0', 'level_1']) \\\n",
    "    .sort_values('value', ascending=False).dropna()\n",
    "sns.distplot(corr_2.value)\n",
    "plt.title('Correlation Values Between Numeric Features')\n",
    "plt.grid();"
   ]
  },
  {
   "cell_type": "code",
   "execution_count": 45,
   "metadata": {},
   "outputs": [
    {
     "data": {
      "image/png": "[encoded data removed]",
      "text/plain": [
       "<Figure size 432x288 with 1 Axes>"
      ]
     },
     "metadata": {
      "needs_background": "light"
     },
     "output_type": "display_data"
    }
   ],
   "source": [
    "scaler = preprocessing.MinMaxScaler()\n",
    "df_scale = pd.DataFrame(index=df.select_dtypes(include=[np.number, bool]).index,\n",
    "                        data=scaler.fit_transform(df.select_dtypes(include=[np.number, bool])),\n",
    "                        columns=df.select_dtypes(include=[np.number, bool]).columns)\n",
    "sns.distplot(df_scale.var(), bins=10)\n",
    "plt.title('Variance of normalized numeric features')\n",
    "plt.grid()"
   ]
  },
  {
   "cell_type": "code",
   "execution_count": 133,
   "metadata": {},
   "outputs": [
    {
     "name": "stdout",
     "output_type": "stream",
     "text": [
      "mths_since_last_major_derog    100.000\n",
      "mths_since_last_record          91.633\n",
      "is_bad                          68.571\n",
      "revol_util                      47.862\n",
      "debt_to_income                  30.850\n",
      "mths_since_last_delinq          21.120\n",
      "total_acc                       10.528\n",
      "open_acc                         8.630\n",
      "pub_rec                          4.266\n",
      "inq_last_6mths                   2.120\n",
      "annual_inc                       1.781\n",
      "delinq_2yrs                      1.288\n",
      "revol_bal                        0.270\n",
      "collections_12_mths_ex_med       0.000\n",
      "dtype: float64\n"
     ]
    }
   ],
   "source": [
    "# Remove features with very low variance\n",
    "tmp_2 = (100 * df_scale.var().div(df_scale.var().max())).round(3).sort_values(ascending=False)\n",
    "print(tmp_2)"
   ]
  },
  {
   "cell_type": "code",
   "execution_count": 140,
   "metadata": {},
   "outputs": [
    {
     "name": "stdout",
     "output_type": "stream",
     "text": [
      "['mths_since_last_major_derog', 'mths_since_last_record', 'is_bad', 'revol_util', 'debt_to_income', 'mths_since_last_delinq', 'total_acc', 'open_acc', 'pub_rec', 'inq_last_6mths', 'annual_inc', 'delinq_2yrs', 'revol_bal', 'collections_12_mths_ex_med']\n"
     ]
    }
   ],
   "source": [
    "num_cols_to_use = tmp_2[tmp_2 >= 0].index.values.tolist()\n",
    "print(num_cols_to_use)"
   ]
  },
  {
   "cell_type": "code",
   "execution_count": 198,
   "metadata": {},
   "outputs": [
    {
     "data": {
      "image/png": "[encoded data removed]",
      "text/plain": [
       "<Figure size 432x288 with 1 Axes>"
      ]
     },
     "metadata": {
      "needs_background": "light"
     },
     "output_type": "display_data"
    }
   ],
   "source": [
    "# Compute roc_auc score using numeric features\n",
    "from sklearn.metrics import roc_auc_score\n",
    "tmp_df = df[num_cols_to_use].copy()\n",
    "tmp_df.drop(columns=['is_bad'], inplace=True)\n",
    "l = []\n",
    "# tmp_df.apply(lambda col: roc_auc_score(df.is_bad, col))\n",
    "for col in tmp_df.iteritems():\n",
    "    new_df = pd.DataFrame(data={'feature': col[1]})\n",
    "    new_df['label'] = df['is_bad']\n",
    "    new_df = new_df.dropna()\n",
    "    val = roc_auc_score(new_df.label, new_df.feature)\n",
    "    d = {'feature': col[0], 'roc_auc': val}\n",
    "    l.append(d)\n",
    "tmp_df_2 = pd.DataFrame(l).sort_values('roc_auc', ascending=False).set_index('feature')\n",
    "tmp_df_2.plot(kind='bar', grid=True)\n",
    "plt.xticks(rotation=45, ha='right')\n",
    "plt.title('Best roc_auc scores for numerical features');"
   ]
  },
  {
   "cell_type": "code",
   "execution_count": 141,
   "metadata": {},
   "outputs": [],
   "source": [
    "# from sklearn.ensemble import ExtraTreesClassifier\n",
    "# from sklearn.datasets import load_iris\n",
    "# from sklearn.feature_selection import SelectFromModel"
   ]
  },
  {
   "cell_type": "code",
   "execution_count": 142,
   "metadata": {},
   "outputs": [
    {
     "name": "stdout",
     "output_type": "stream",
     "text": [
      "['addr_state', 'annual_inc', 'collections_12_mths_ex_med', 'debt_to_income', 'delinq_2yrs', 'earliest_cr_cohort', 'emp_length', 'home_ownership', 'initial_list_status', 'inq_last_6mths', 'is_bad', 'mths_since_last_delinq', 'mths_since_last_major_derog', 'mths_since_last_record', 'open_acc', 'policy_code', 'pub_rec', 'purpose_cat', 'revol_bal', 'revol_util', 'total_acc', 'verification_status', 'zip_code']\n"
     ]
    }
   ],
   "source": [
    "cols = sorted(obj_cols_to_use + num_cols_to_use)\n",
    "print(cols)"
   ]
  },
  {
   "cell_type": "code",
   "execution_count": 143,
   "metadata": {},
   "outputs": [
    {
     "data": {
      "text/plain": [
       "(10000, 879)"
      ]
     },
     "execution_count": 143,
     "metadata": {},
     "output_type": "execute_result"
    }
   ],
   "source": [
    "df_1 = df[cols].copy()\n",
    "df_2 = pd.get_dummies(df_1)\n",
    "df_2.shape"
   ]
  },
  {
   "cell_type": "code",
   "execution_count": 144,
   "metadata": {},
   "outputs": [
    {
     "data": {
      "text/html": [
       "<div>\n",
       "<style scoped>\n",
       "    .dataframe tbody tr th:only-of-type {\n",
       "        vertical-align: middle;\n",
       "    }\n",
       "\n",
       "    .dataframe tbody tr th {\n",
       "        vertical-align: top;\n",
       "    }\n",
       "\n",
       "    .dataframe thead th {\n",
       "        text-align: right;\n",
       "    }\n",
       "</style>\n",
       "<table border=\"1\" class=\"dataframe\">\n",
       "  <thead>\n",
       "    <tr style=\"text-align: right;\">\n",
       "      <th></th>\n",
       "      <th>annual_inc</th>\n",
       "      <th>collections_12_mths_ex_med</th>\n",
       "      <th>debt_to_income</th>\n",
       "      <th>delinq_2yrs</th>\n",
       "      <th>inq_last_6mths</th>\n",
       "    </tr>\n",
       "    <tr>\n",
       "      <th>Id</th>\n",
       "      <th></th>\n",
       "      <th></th>\n",
       "      <th></th>\n",
       "      <th></th>\n",
       "      <th></th>\n",
       "    </tr>\n",
       "  </thead>\n",
       "  <tbody>\n",
       "    <tr>\n",
       "      <th>1</th>\n",
       "      <td>50000.0</td>\n",
       "      <td>0.0</td>\n",
       "      <td>10.87</td>\n",
       "      <td>0.0</td>\n",
       "      <td>0.0</td>\n",
       "    </tr>\n",
       "    <tr>\n",
       "      <th>2</th>\n",
       "      <td>39216.0</td>\n",
       "      <td>0.0</td>\n",
       "      <td>9.15</td>\n",
       "      <td>0.0</td>\n",
       "      <td>2.0</td>\n",
       "    </tr>\n",
       "    <tr>\n",
       "      <th>3</th>\n",
       "      <td>65000.0</td>\n",
       "      <td>0.0</td>\n",
       "      <td>11.24</td>\n",
       "      <td>0.0</td>\n",
       "      <td>0.0</td>\n",
       "    </tr>\n",
       "    <tr>\n",
       "      <th>4</th>\n",
       "      <td>57500.0</td>\n",
       "      <td>0.0</td>\n",
       "      <td>6.18</td>\n",
       "      <td>1.0</td>\n",
       "      <td>0.0</td>\n",
       "    </tr>\n",
       "    <tr>\n",
       "      <th>5</th>\n",
       "      <td>50004.0</td>\n",
       "      <td>0.0</td>\n",
       "      <td>19.03</td>\n",
       "      <td>0.0</td>\n",
       "      <td>4.0</td>\n",
       "    </tr>\n",
       "  </tbody>\n",
       "</table>\n",
       "</div>"
      ],
      "text/plain": [
       "    annual_inc  collections_12_mths_ex_med  debt_to_income  delinq_2yrs  inq_last_6mths\n",
       "Id                                                                                     \n",
       "1      50000.0                         0.0           10.87          0.0             0.0\n",
       "2      39216.0                         0.0            9.15          0.0             2.0\n",
       "3      65000.0                         0.0           11.24          0.0             0.0\n",
       "4      57500.0                         0.0            6.18          1.0             0.0\n",
       "5      50004.0                         0.0           19.03          0.0             4.0"
      ]
     },
     "execution_count": 144,
     "metadata": {},
     "output_type": "execute_result"
    }
   ],
   "source": [
    "df_2.iloc[:5, :5]"
   ]
  },
  {
   "cell_type": "code",
   "execution_count": 145,
   "metadata": {},
   "outputs": [],
   "source": [
    "X = df_2.copy().drop(columns=['is_bad'])\n",
    "Y = df_2[['is_bad']].copy()"
   ]
  },
  {
   "cell_type": "code",
   "execution_count": 146,
   "metadata": {},
   "outputs": [
    {
     "name": "stdout",
     "output_type": "stream",
     "text": [
      "y_train value counts = 0.13\n",
      "y_test value counts = 0.12\n"
     ]
    }
   ],
   "source": [
    "# Split into test and train and make sure evenly sampled data\n",
    "X_train, X_test, y_train, y_test = train_test_split(X, y) \n",
    "print(f'y_train value counts = {y_train.is_bad.value_counts(normalize=True).loc[True]:0.2f}')\n",
    "print(f'y_test value counts = {y_test.is_bad.value_counts(normalize=True).loc[True]:0.2f}')"
   ]
  },
  {
   "cell_type": "code",
   "execution_count": 147,
   "metadata": {},
   "outputs": [
    {
     "name": "stdout",
     "output_type": "stream",
     "text": [
      "Fitting 3 folds for each of 24 candidates, totalling 72 fits\n"
     ]
    },
    {
     "name": "stderr",
     "output_type": "stream",
     "text": [
      "[Parallel(n_jobs=-1)]: Using backend LokyBackend with 4 concurrent workers.\n",
      "[Parallel(n_jobs=-1)]: Done   5 tasks      | elapsed:   44.7s\n",
      "[Parallel(n_jobs=-1)]: Done  10 tasks      | elapsed:  1.4min\n",
      "[Parallel(n_jobs=-1)]: Done  17 tasks      | elapsed:  2.1min\n",
      "[Parallel(n_jobs=-1)]: Done  24 tasks      | elapsed:  3.0min\n",
      "[Parallel(n_jobs=-1)]: Done  33 tasks      | elapsed:  3.9min\n",
      "[Parallel(n_jobs=-1)]: Done  42 tasks      | elapsed:  5.6min\n",
      "[Parallel(n_jobs=-1)]: Done  53 tasks      | elapsed:  8.4min\n",
      "[Parallel(n_jobs=-1)]: Done  64 tasks      | elapsed: 11.1min\n",
      "[Parallel(n_jobs=-1)]: Done  72 out of  72 | elapsed: 12.8min finished\n",
      "/Library/Frameworks/Python.framework/Versions/3.8/lib/python3.8/site-packages/sklearn/preprocessing/_label.py:235: DataConversionWarning: A column-vector y was passed when a 1d array was expected. Please change the shape of y to (n_samples, ), for example using ravel().\n",
      "  Returns\n",
      "/Library/Frameworks/Python.framework/Versions/3.8/lib/python3.8/site-packages/sklearn/preprocessing/_label.py:268: DataConversionWarning: A column-vector y was passed when a 1d array was expected. Please change the shape of y to (n_samples, ), for example using ravel().\n",
      "  -------\n"
     ]
    },
    {
     "data": {
      "text/plain": [
       "GridSearchCV(cv=3, error_score=nan,\n",
       "             estimator=XGBClassifier(base_score=None, booster=None,\n",
       "                                     colsample_bylevel=None,\n",
       "                                     colsample_bynode=None,\n",
       "                                     colsample_bytree=None, gamma=None,\n",
       "                                     gpu_id=None, importance_type='gain',\n",
       "                                     interaction_constraints=None,\n",
       "                                     learning_rate=None, max_delta_step=None,\n",
       "                                     max_depth=None, min_child_weight=None,\n",
       "                                     missing=nan, monotone_constraints=None,\n",
       "                                     n_estim...\n",
       "                                     reg_lambda=None,\n",
       "                                     scale_pos_weight=6.621951219512195,\n",
       "                                     subsample=None, tree_method=None,\n",
       "                                     validate_parameters=None, verbosity=None),\n",
       "             iid='deprecated', n_jobs=-1,\n",
       "             param_grid={'colsample_bytree': [0.5, 1.0],\n",
       "                         'learning_rate': [0.01, 0.1, 0.25],\n",
       "                         'max_depth': [5, 9], 'n_estimators': [50, 100]},\n",
       "             pre_dispatch='2*n_jobs', refit=True, return_train_score=False,\n",
       "             scoring='roc_auc', verbose=10)"
      ]
     },
     "execution_count": 147,
     "metadata": {},
     "output_type": "execute_result"
    }
   ],
   "source": [
    "# Use Grid search to find best XGBoost parameters with stochastic column sampling using roc_auc for scoring\n",
    "param_grid = {\n",
    "    'n_estimators': [50, 100], \n",
    "    'max_depth': [5, 9], \n",
    "    'learning_rate': [0.01, 0.1, 0.25], \n",
    "    'colsample_bytree': [0.5, 1.0]\n",
    "}\n",
    "b = y_train.is_bad.value_counts()\n",
    "scale_pos_weight = b.loc[False] / b.loc[True]\n",
    "xgb_grid_clf = GridSearchCV(XGBClassifier(scale_pos_weight=scale_pos_weight),\n",
    "                            param_grid,\n",
    "                            cv=3,\n",
    "                            verbose=10, \n",
    "                            scoring='roc_auc', \n",
    "                            n_jobs=-1)\n",
    "xgb_grid_clf.fit(X_train, y_train)"
   ]
  },
  {
   "cell_type": "code",
   "execution_count": 148,
   "metadata": {},
   "outputs": [
    {
     "name": "stdout",
     "output_type": "stream",
     "text": [
      "best params found: {'colsample_bytree': 0.5, 'learning_rate': 0.01, 'max_depth': 5, 'n_estimators': 100}\n"
     ]
    }
   ],
   "source": [
    "model = xgb_grid_clf.best_estimator_ \n",
    "params = xgb_grid_clf.best_params_ \n",
    "scores = xgb_grid_clf.cv_results_\n",
    "print(f'best params found: {params}')"
   ]
  },
  {
   "cell_type": "code",
   "execution_count": 149,
   "metadata": {},
   "outputs": [],
   "source": [
    "y_test = y_test.copy()"
   ]
  },
  {
   "cell_type": "code",
   "execution_count": 150,
   "metadata": {},
   "outputs": [
    {
     "name": "stdout",
     "output_type": "stream",
     "text": [
      "              precision    recall  f1-score   support\n",
      "\n",
      "       False       0.91      0.76      0.83      2189\n",
      "        True       0.22      0.47      0.30       311\n",
      "\n",
      "    accuracy                           0.72      2500\n",
      "   macro avg       0.56      0.61      0.56      2500\n",
      "weighted avg       0.82      0.72      0.76      2500\n",
      "\n"
     ]
    }
   ],
   "source": [
    "# Print classification report\n",
    "y_test['y_pred'] = model.predict(X_test) \n",
    "y_test['y_prob'] = model.predict_proba(X_test)[:, 1]\n",
    "print(classification_report(y_test.is_bad, y_test.y_pred))"
   ]
  },
  {
   "cell_type": "code",
   "execution_count": 151,
   "metadata": {},
   "outputs": [
    {
     "name": "stdout",
     "output_type": "stream",
     "text": [
      "roc auc score on test data = 0.6754225673823664\n"
     ]
    }
   ],
   "source": [
    "# Print roc_auc score\n",
    "print(f'roc auc score on test data = {roc_auc_score(y_test.is_bad, y_test.y_prob)}')"
   ]
  },
  {
   "cell_type": "code",
   "execution_count": 207,
   "metadata": {},
   "outputs": [
    {
     "data": {
      "image/png": "[encoded data removed]",
      "text/plain": [
       "<Figure size 432x288 with 1 Axes>"
      ]
     },
     "metadata": {
      "needs_background": "light"
     },
     "output_type": "display_data"
    }
   ],
   "source": [
    "plot_roc_curve(model, X_test, y_test.is_bad)\n",
    "plt.grid()"
   ]
  },
  {
   "cell_type": "code",
   "execution_count": 213,
   "metadata": {},
   "outputs": [
    {
     "data": {
      "image/png": "[encoded data removed]",
      "text/plain": [
       "<Figure size 864x720 with 1 Axes>"
      ]
     },
     "metadata": {
      "needs_background": "light"
     },
     "output_type": "display_data"
    }
   ],
   "source": [
    "# Plot feature importances\n",
    "tmp = pd.DataFrame(index=X_test.columns, \n",
    "                   data={'importance': model.feature_importances_}).sort_values('importance', ascending=False) \n",
    "# tmp[tmp.importance > 0].plot(kind='bar', grid=True, figsize=(12,10)) \n",
    "tmp.head(35).plot(kind='bar', grid=True, figsize=(12,10)) \n",
    "plt.xticks(rotation=45, ha='right');\n",
    "plt.title('Feature Importances'); plt.gcf().tight_layout();"
   ]
  },
  {
   "cell_type": "code",
   "execution_count": 160,
   "metadata": {},
   "outputs": [],
   "source": [
    "# tmp.loc[num_cols_to_use].head(35).plot(kind='bar', grid=True, figsize=(12,10)) \n",
    "# plt.xticks(rotation=45, ha='right');\n",
    "# plt.title('Feature Importances'); \n",
    "# plt.gcf().tight_layout();"
   ]
  },
  {
   "cell_type": "code",
   "execution_count": 176,
   "metadata": {},
   "outputs": [
    {
     "data": {
      "image/png": "[encoded data removed]",
      "text/plain": [
       "<Figure size 432x288 with 1 Axes>"
      ]
     },
     "metadata": {
      "needs_background": "light"
     },
     "output_type": "display_data"
    }
   ],
   "source": [
    "tmp_2 = tmp.reset_index().rename(columns={'index': 'feature'})\n",
    "tmp_3 = tmp_2[tmp_2.feature.isin(num_cols_to_use)].set_index('feature')\n",
    "tmp_3.plot(kind='bar', grid=True);"
   ]
  },
  {
   "cell_type": "code",
   "execution_count": 222,
   "metadata": {},
   "outputs": [
    {
     "data": {
      "text/html": [
       "<div>\n",
       "<style scoped>\n",
       "    .dataframe tbody tr th:only-of-type {\n",
       "        vertical-align: middle;\n",
       "    }\n",
       "\n",
       "    .dataframe tbody tr th {\n",
       "        vertical-align: top;\n",
       "    }\n",
       "\n",
       "    .dataframe thead th {\n",
       "        text-align: right;\n",
       "    }\n",
       "</style>\n",
       "<table border=\"1\" class=\"dataframe\">\n",
       "  <thead>\n",
       "    <tr style=\"text-align: right;\">\n",
       "      <th></th>\n",
       "      <th>purpose_cat_debt consolidation small business</th>\n",
       "      <th>is_bad</th>\n",
       "    </tr>\n",
       "  </thead>\n",
       "  <tbody>\n",
       "    <tr>\n",
       "      <th>purpose_cat_debt consolidation small business</th>\n",
       "      <td>1.000000</td>\n",
       "      <td>0.263194</td>\n",
       "    </tr>\n",
       "    <tr>\n",
       "      <th>is_bad</th>\n",
       "      <td>0.263194</td>\n",
       "      <td>1.000000</td>\n",
       "    </tr>\n",
       "  </tbody>\n",
       "</table>\n",
       "</div>"
      ],
      "text/plain": [
       "                                               purpose_cat_debt consolidation small business    is_bad\n",
       "purpose_cat_debt consolidation small business                                       1.000000  0.263194\n",
       "is_bad                                                                              0.263194  1.000000"
      ]
     },
     "execution_count": 222,
     "metadata": {},
     "output_type": "execute_result"
    }
   ],
   "source": [
    "cat = tmp.iloc[0].name\n",
    "res = df_2[[cat, 'is_bad']]\n",
    "res.corr()"
   ]
  },
  {
   "cell_type": "code",
   "execution_count": 223,
   "metadata": {},
   "outputs": [
    {
     "data": {
      "text/html": [
       "<div>\n",
       "<style scoped>\n",
       "    .dataframe tbody tr th:only-of-type {\n",
       "        vertical-align: middle;\n",
       "    }\n",
       "\n",
       "    .dataframe tbody tr th {\n",
       "        vertical-align: top;\n",
       "    }\n",
       "\n",
       "    .dataframe thead th {\n",
       "        text-align: right;\n",
       "    }\n",
       "</style>\n",
       "<table border=\"1\" class=\"dataframe\">\n",
       "  <thead>\n",
       "    <tr style=\"text-align: right;\">\n",
       "      <th></th>\n",
       "      <th>purpose_cat_small business</th>\n",
       "      <th>is_bad</th>\n",
       "    </tr>\n",
       "  </thead>\n",
       "  <tbody>\n",
       "    <tr>\n",
       "      <th>purpose_cat_small business</th>\n",
       "      <td>1.000000</td>\n",
       "      <td>0.079963</td>\n",
       "    </tr>\n",
       "    <tr>\n",
       "      <th>is_bad</th>\n",
       "      <td>0.079963</td>\n",
       "      <td>1.000000</td>\n",
       "    </tr>\n",
       "  </tbody>\n",
       "</table>\n",
       "</div>"
      ],
      "text/plain": [
       "                            purpose_cat_small business    is_bad\n",
       "purpose_cat_small business                    1.000000  0.079963\n",
       "is_bad                                        0.079963  1.000000"
      ]
     },
     "execution_count": 223,
     "metadata": {},
     "output_type": "execute_result"
    }
   ],
   "source": [
    "cat = tmp.iloc[1].name\n",
    "res = df_2[[cat, 'is_bad']]\n",
    "res.corr()"
   ]
  },
  {
   "cell_type": "code",
   "execution_count": 224,
   "metadata": {},
   "outputs": [
    {
     "data": {
      "text/html": [
       "<div>\n",
       "<style scoped>\n",
       "    .dataframe tbody tr th:only-of-type {\n",
       "        vertical-align: middle;\n",
       "    }\n",
       "\n",
       "    .dataframe tbody tr th {\n",
       "        vertical-align: top;\n",
       "    }\n",
       "\n",
       "    .dataframe thead th {\n",
       "        text-align: right;\n",
       "    }\n",
       "</style>\n",
       "<table border=\"1\" class=\"dataframe\">\n",
       "  <thead>\n",
       "    <tr style=\"text-align: right;\">\n",
       "      <th></th>\n",
       "      <th>revol_util</th>\n",
       "      <th>is_bad</th>\n",
       "    </tr>\n",
       "  </thead>\n",
       "  <tbody>\n",
       "    <tr>\n",
       "      <th>revol_util</th>\n",
       "      <td>1.000000</td>\n",
       "      <td>0.087876</td>\n",
       "    </tr>\n",
       "    <tr>\n",
       "      <th>is_bad</th>\n",
       "      <td>0.087876</td>\n",
       "      <td>1.000000</td>\n",
       "    </tr>\n",
       "  </tbody>\n",
       "</table>\n",
       "</div>"
      ],
      "text/plain": [
       "            revol_util    is_bad\n",
       "revol_util    1.000000  0.087876\n",
       "is_bad        0.087876  1.000000"
      ]
     },
     "execution_count": 224,
     "metadata": {},
     "output_type": "execute_result"
    }
   ],
   "source": [
    "cat = tmp.iloc[2].name\n",
    "res = df_2[[cat, 'is_bad']]\n",
    "res.corr()"
   ]
  },
  {
   "cell_type": "code",
   "execution_count": 227,
   "metadata": {
    "collapsed": true,
    "jupyter": {
     "outputs_hidden": true
    }
   },
   "outputs": [
    {
     "name": "stdout",
     "output_type": "stream",
     "text": [
      "purpose_cat_debt consolidation small business:0.2631939273752994\n",
      "purpose_cat_small business:0.07996337071993606\n",
      "revol_util:0.08787567952383696\n",
      "purpose_cat_credit card:-0.05527112668172508\n",
      "purpose_cat_credit card small business:0.10699005940363274\n",
      "inq_last_6mths:-0.0011462653346675184\n",
      "purpose_cat_other small business:0.11009737725339776\n",
      "total_acc:-0.055307034351278095\n",
      "purpose_cat_home improvement small business:0.08603691696240899\n",
      "purpose_cat_debt consolidation:-0.03283528335806815\n",
      "purpose_cat_small business small business:0.08986712739992207\n",
      "annual_inc:-0.05097499797039757\n",
      "verification_status_VERIFIED - income:0.04323119876026347\n",
      "open_acc:-0.02035571387742111\n",
      "purpose_cat_major purchase:-0.025834325329869217\n",
      "zip_code_941xx:-0.02242142707974701\n",
      "emp_length_8:-0.02015636961639124\n",
      "addr_state_CA:0.02716020583083601\n",
      "purpose_cat_other:-0.007721882079489712\n",
      "verification_status_not verified:-0.05015838447534834\n",
      "home_ownership_RENT:0.025362674572385183\n",
      "addr_state_NV:0.03433151426768444\n",
      "zip_code_925xx:0.024396694156674368\n",
      "purpose_cat_wedding:-0.035053853205060485\n",
      "home_ownership_MORTGAGE:-0.03154391208751056\n",
      "zip_code_891xx:0.02402702262488209\n",
      "zip_code_787xx:-0.027615052238303316\n",
      "zip_code_926xx:0.02415811104783794\n",
      "zip_code_770xx:-0.005219400756985387\n",
      "addr_state_VA:-0.0027071964892233127\n",
      "earliest_cr_cohort_1996:-0.010934266732772877\n",
      "addr_state_MA:0.005220147278985123\n",
      "purpose_cat_house:-0.019053024083078404\n",
      "mths_since_last_delinq:0.0013575357682212637\n",
      "revol_bal:-0.016201667665569516\n",
      "purpose_cat_educational small business:0.057988664440601335\n",
      "mths_since_last_record:0.1357349982943765\n",
      "earliest_cr_cohort_1993:-0.008688268136409718\n",
      "earliest_cr_cohort_2001:0.009552113845174692\n",
      "addr_state_WA:-0.0002074822154398466\n",
      "earliest_cr_cohort_2004:0.01620884990586122\n",
      "earliest_cr_cohort_1997:0.016504597208871194\n",
      "emp_length_na:0.01836154215502799\n",
      "zip_code_808xx:0.015607285396536328\n",
      "debt_to_income:0.02987296389036792\n",
      "earliest_cr_cohort_1983:0.011874701778881813\n",
      "zip_code_193xx:0.0027332812131946713\n",
      "earliest_cr_cohort_1989:-0.001953391110150592\n",
      "purpose_cat_car small business:0.044913332974139374\n",
      "addr_state_MO:0.010165028573744362\n",
      "emp_length_4:-0.016875630738040808\n",
      "purpose_cat_home improvement:-0.019322107264189807\n",
      "addr_state_CO:-0.0015048087464262893\n",
      "zip_code_334xx:0.01695416351246763\n",
      "emp_length_1:0.019253509096275833\n",
      "zip_code_785xx:0.014156040172760238\n",
      "zip_code_774xx:0.007189073519252534\n",
      "zip_code_117xx:0.021633092971590554\n",
      "addr_state_OR:-0.006068207289439004\n",
      "earliest_cr_cohort_1999:-0.013400279525261138\n",
      "purpose_cat_house small business:0.04491333297413824\n",
      "purpose_cat_car:-0.02628307759426754\n",
      "zip_code_032xx:0.0071793420783644035\n",
      "purpose_cat_moving:-0.013311077187663094\n",
      "earliest_cr_cohort_2000:0.00789561748847199\n",
      "emp_length_10:-0.019338922587445257\n",
      "zip_code_112xx:-0.010760026997742748\n",
      "addr_state_GA:0.010865081037780137\n",
      "zip_code_301xx:0.013524690901203566\n",
      "zip_code_669xx:0.025928131421306268\n",
      "zip_code_068xx:0.0016808513934690732\n",
      "earliest_cr_cohort_1984:0.0014037803676039164\n",
      "zip_code_710xx:0.015607285396541952\n",
      "addr_state_FL:0.02259826822071522\n",
      "delinq_2yrs:0.021841848997438015\n",
      "addr_state_CT:0.0037640623421274343\n",
      "addr_state_NY:-0.016253178472531774\n",
      "emp_length_2:0.02656091561250351\n",
      "policy_code_PC5:0.0013062671161232612\n",
      "zip_code_191xx:0.001964097517689412\n",
      "emp_length_9:-0.014758091390378968\n",
      "zip_code_852xx:0.010319091129672142\n",
      "zip_code_027xx:0.01052922952808443\n",
      "earliest_cr_cohort_2007:0.021707634904296825\n",
      "mths_since_last_major_derog:0.015481367010821298\n",
      "home_ownership_OWN:0.011849124494827978\n",
      "policy_code_PC4:0.002380391928819612\n",
      "emp_length_3:-0.005727876369746606\n",
      "emp_length_5:0.003466633888360628\n",
      "zip_code_981xx:0.0013589982228523103\n",
      "zip_code_300xx:-0.006340781886231066\n",
      "zip_code_613xx:0.018019452879010727\n",
      "addr_state_MN:-0.024717156320018724\n",
      "verification_status_VERIFIED - income source:0.010946883027755356\n",
      "policy_code_PC1:-0.00235599659680707\n",
      "zip_code_606xx:-0.013362834228727905\n",
      "addr_state_AZ:0.0016721514707376784\n",
      "policy_code_PC3:-0.02391319906161852\n",
      "addr_state_PA:-0.02178750453812958\n",
      "pub_rec:0.03217396763656981\n",
      "earliest_cr_cohort_1998:0.0024160534181923154\n",
      "earliest_cr_cohort_2003:-0.017039403781241597\n",
      "zip_code_070xx:-0.003183396890355476\n",
      "earliest_cr_cohort_1991:0.01829224687799916\n",
      "zip_code_113xx:0.01822479889103527\n",
      "earliest_cr_cohort_2006:0.0053428602174874365\n",
      "zip_code_330xx:0.025751314221135236\n",
      "earliest_cr_cohort_2005:0.01832402207498753\n",
      "emp_length_6:-0.00566814431993537\n",
      "earliest_cr_cohort_2008:-0.007178579248179781\n",
      "earliest_cr_cohort_1990:-0.013268183340503155\n",
      "zip_code_152xx:-0.005019876252261637\n",
      "addr_state_MI:-0.0063240548965473285\n",
      "earliest_cr_cohort_1985:-0.002851280941409543\n",
      "addr_state_TX:-0.019435891753070225\n",
      "zip_code_021xx:-0.017509909203353508\n",
      "earliest_cr_cohort_1987:-0.01311924282263571\n",
      "policy_code_PC2:0.02319053438906026\n",
      "zip_code_930xx:0.012431741777570735\n",
      "zip_code_024xx:-0.006744296382123504\n",
      "earliest_cr_cohort_1994:-0.01003577557824029\n",
      "addr_state_KY:-0.009848310011654468\n",
      "addr_state_WI:-0.010921728782022912\n",
      "addr_state_IL:-0.013894718689023497\n",
      "zip_code_630xx:-0.0005365385694658907\n",
      "zip_code_634xx:0.010516754016345624\n",
      "zip_code_631xx:-0.006032922533011011\n",
      "zip_code_629xx:-0.0054551780265878645\n",
      "zip_code_633xx:0.019148018196016265\n",
      "zip_code_494xx:0.00517093057405594\n",
      "zip_code_635xx:0.025928131421305962\n",
      "zip_code_636xx:-0.005455178026589622\n",
      "zip_code_637xx:-0.0038572004814006614\n",
      "zip_code_638xx:-0.003857200481399952\n",
      "zip_code_639xx:0.015607285396539744\n",
      "zip_code_434xx:0.007179342078363905\n",
      "zip_code_640xx:0.0036898469180924906\n",
      "zip_code_433xx:-0.0054551780265901\n",
      "zip_code_641xx:-0.0006573862899533503\n",
      "zip_code_645xx:0.010516754016349116\n",
      "zip_code_628xx:-0.007715558499152537\n",
      "zip_code_625xx:-0.008626688162044207\n",
      "zip_code_627xx:-0.005455178026588489\n",
      "zip_code_614xx:0.002712316046755045\n",
      "zip_code_605xx:-0.016579989898417455\n",
      "zip_code_439xx:0.006643349501532649\n",
      "zip_code_607xx:0.01560728539653987\n",
      "zip_code_608xx:0.010516754016349673\n",
      "zip_code_609xx:-0.009450536180844868\n",
      "zip_code_610xx:-0.0003792381528991093\n",
      "zip_code_611xx:0.004696382358485414\n",
      "zip_code_612xx:-0.008626688162045372\n",
      "zip_code_437xx:-0.005455178026586982\n",
      "zip_code_616xx:0.015607285396542075\n",
      "zip_code_435xx:-0.009450536180845905\n",
      "zip_code_617xx:-0.007715558499149479\n",
      "zip_code_618xx:-0.008626688162044358\n",
      "zip_code_619xx:0.01051675401634953\n",
      "zip_code_620xx:-0.010913631288975064\n",
      "zip_code_622xx:-0.010913631288973775\n",
      "zip_code_624xx:-0.006681535462552005\n",
      "zip_code_647xx:-0.00668153546255153\n",
      "zip_code_626xx:-0.007715558499151203\n",
      "zip_code_436xx:-0.009450536180845745\n",
      "zip_code_646xx:-0.00668153546255451\n",
      "zip_code_653xx:-0.0038572004813994805\n",
      "zip_code_648xx:0.008288602927170093\n",
      "zip_code_672xx:-0.007715558499153263\n",
      "zip_code_674xx:-0.00545517802658869\n",
      "zip_code_676xx:-0.003857200481397934\n",
      "zip_code_678xx:-0.0038572004813996106\n",
      "zip_code_681xx:-0.0038572004813997823\n",
      "zip_code_685xx:0.015607285396537465\n",
      "zip_code_700xx:-0.011576233327281702\n",
      "zip_code_701xx:-0.013915686869408573\n",
      "zip_code_703xx:-0.010208256473528129\n",
      "zip_code_704xx:-0.008626688162043794\n",
      "zip_code_705xx:0.0004425159292552151\n",
      "zip_code_706xx:-0.00945053618084662\n",
      "zip_code_707xx:0.006643349501536206\n",
      "zip_code_708xx:0.002616165663302109\n",
      "zip_code_427xx:-0.005455178026589981\n",
      "zip_code_425xx:-0.005455178026586914\n",
      "zip_code_424xx:-0.005455178026589372\n",
      "zip_code_711xx:0.0027123160467562046\n",
      "zip_code_712xx:-0.007715558499148949\n",
      "zip_code_713xx:-0.006681535462552912\n",
      "zip_code_673xx:-0.0038572004813995325\n",
      "zip_code_670xx:-0.005455178026587237\n",
      "zip_code_650xx:-0.00385720048139902\n",
      "zip_code_430xx:0.0013542262707121693\n",
      "zip_code_651xx:-0.005455178026589161\n",
      "zip_code_652xx:0.0180194528790181\n",
      "zip_code_432xx:-0.0041845314827166705\n",
      "zip_code_603xx:-0.006681535462552268\n",
      "zip_code_431xx:0.006643349501535957\n",
      "zip_code_654xx:-0.003857200481399103\n",
      "zip_code_655xx:-0.00945053618084593\n",
      "zip_code_656xx:-0.006681535462552186\n",
      "zip_code_657xx:0.004696382358484709\n",
      "zip_code_658xx:-0.0016438152000565265\n",
      "zip_code_660xx:-0.013369090176095113\n",
      "zip_code_661xx:-0.005455178026588195\n",
      "zip_code_662xx:-0.009352199191030535\n",
      "zip_code_663xx:0.025928131421304946\n",
      "zip_code_664xx:-0.0038572004814004363\n",
      "zip_code_665xx:-0.009450536180844451\n",
      "zip_code_666xx:0.02207424265587769\n",
      "zip_code_667xx:-0.0038572004813999224\n",
      "zip_code_668xx:-0.003857200481398387\n",
      "zip_code_604xx:-0.0008493634497914644\n",
      "zip_code_594xx:-0.0038572004813981165\n",
      "zip_code_602xx:-0.005455178026587934\n",
      "zip_code_462xx:-0.005455178026589472\n",
      "zip_code_457xx:-0.00385720048139828\n",
      "zip_code_527xx:-0.003857200481399323\n",
      "zip_code_530xx:0.0082886029271698\n",
      "zip_code_456xx:-0.010208256473527723\n",
      "zip_code_455xx:-0.005455178026588105\n",
      "zip_code_454xx:0.01822102105439803\n",
      "zip_code_453xx:-0.010913631288973588\n",
      "zip_code_452xx:-0.01384387375000975\n",
      "zip_code_716xx:0.015607285396541961\n",
      "zip_code_531xx:-0.015440387721276557\n",
      "zip_code_451xx:0.0071793420783640045\n",
      "zip_code_532xx:-0.0021464730317926517\n",
      "zip_code_450xx:-0.009352199191030855\n",
      "zip_code_448xx:-0.011576233327283362\n",
      "zip_code_447xx:0.0027123160467551516\n",
      "zip_code_534xx:0.01051675401634708\n",
      "zip_code_535xx:-0.01637864486423096\n",
      "zip_code_537xx:0.007179342078361743\n",
      "zip_code_538xx:-0.005455178026588626\n",
      "zip_code_458xx:-0.012203032063105601\n",
      "zip_code_468xx:-0.0038572004813971677\n",
      "zip_code_601xx:0.005858992338257082\n",
      "zip_code_469xx:-0.003857200481398925\n",
      "zip_code_493xx:-0.003857200481398176\n",
      "zip_code_496xx:-0.005455178026587706\n",
      "zip_code_492xx:-0.009450536180845253\n",
      "zip_code_491xx:-0.007715558499152619\n",
      "zip_code_497xx:-0.006681535462552003\n",
      "zip_code_498xx:-0.005455178026588448\n",
      "zip_code_490xx:-0.002779841280784121\n",
      "zip_code_499xx:-0.0054551780265886555\n",
      "zip_code_500xx:-0.003857200481397621\n",
      "zip_code_489xx:0.010516754016350167\n",
      "zip_code_488xx:-0.0014568028496021851\n",
      "zip_code_486xx:-0.007715558499150209\n",
      "zip_code_484xx:0.019148018196014836\n",
      "zip_code_483xx:-0.008686593666483415\n",
      "zip_code_482xx:-0.010913631288973304\n",
      "zip_code_481xx:-0.0014425855806042417\n",
      "zip_code_480xx:-0.0028497396780981453\n",
      "zip_code_479xx:-0.005455178026589694\n",
      "zip_code_471xx:-0.0038572004813999887\n",
      "zip_code_539xx:0.004696382358486543\n",
      "zip_code_540xx:-0.007715558499150407\n",
      "zip_code_541xx:-0.00771555849915042\n",
      "zip_code_542xx:-0.006681535462554118\n",
      "zip_code_564xx:-0.0038572004813991556\n",
      "zip_code_565xx:-0.0038572004813989752\n",
      "zip_code_566xx:-0.0054551780265866745\n",
      "zip_code_570xx:-0.00771555849915277\n",
      "zip_code_571xx:-0.00037923815289998554\n",
      "zip_code_572xx:-0.003857200481399964\n",
      "zip_code_576xx:-0.0038572004813970167\n",
      "zip_code_577xx:-0.008626688162045466\n",
      "zip_code_591xx:0.004696382358485114\n",
      "zip_code_592xx:-0.003857200481397405\n",
      "zip_code_441xx:-0.011806916382313402\n",
      "zip_code_593xx:-0.003857200481400419\n",
      "zip_code_440xx:-0.005649760603052712\n",
      "zip_code_495xx:0.0027123160467558763\n",
      "zip_code_596xx:-0.005455178026588416\n",
      "zip_code_597xx:0.002712316046755265\n",
      "zip_code_598xx:-0.0003792381528996082\n",
      "zip_code_599xx:-0.0038572004813985697\n",
      "zip_code_600xx:0.00584015736706144\n",
      "zip_code_442xx:0.011727137828571483\n",
      "zip_code_443xx:-0.011576233327282399\n",
      "zip_code_563xx:-0.010913631288973593\n",
      "zip_code_550xx:-0.014949342479629795\n",
      "zip_code_543xx:-0.007715558499153213\n",
      "zip_code_544xx:0.004696382358485929\n",
      "zip_code_545xx:-0.003857200481400453\n",
      "zip_code_546xx:0.007179342078366295\n",
      "zip_code_547xx:0.02592813142130577\n",
      "zip_code_548xx:-0.0066815354625544224\n",
      "zip_code_549xx:-0.0047660720447572765\n",
      "zip_code_446xx:0.008288602927170503\n",
      "zip_code_551xx:0.009455220218678029\n",
      "zip_code_562xx:-0.0038572004813982957\n",
      "zip_code_553xx:-0.009988918301892719\n",
      "zip_code_554xx:-0.014673678330734522\n",
      "zip_code_445xx:0.0071793420783622\n",
      "zip_code_557xx:0.004696382358484423\n",
      "zip_code_558xx:-0.005455178026589521\n",
      "zip_code_559xx:-0.01091363128897285\n",
      "zip_code_560xx:-0.009450536180847083\n",
      "zip_code_444xx:0.0010529200003029453\n",
      "zip_code_714xx:-0.006681535462551979\n",
      "zip_code_791xx:-0.006681535462553467\n",
      "zip_code_717xx:-0.003857200481399658\n",
      "zip_code_923xx:0.007687759272015194\n",
      "zip_code_914xx:0.008138445133699225\n",
      "zip_code_915xx:0.0010529200003040035\n",
      "zip_code_916xx:-0.008686593666484457\n",
      "zip_code_917xx:0.021074170749453204\n",
      "zip_code_918xx:-0.001643815200056555\n",
      "zip_code_919xx:0.00862957423166124\n",
      "zip_code_920xx:0.0035338174806480668\n",
      "zip_code_921xx:-0.002065684287507529\n",
      "zip_code_922xx:-0.0026855155194418488\n",
      "zip_code_927xx:0.014367310582345316\n",
      "zip_code_912xx:0.027038020501948767\n",
      "zip_code_928xx:-0.004997013072885007\n",
      "zip_code_931xx:-0.00725341327518881\n",
      "zip_code_932xx:0.0010529200003035425\n",
      "zip_code_933xx:0.010882091929659077\n",
      "zip_code_934xx:-0.008686593666481498\n",
      "zip_code_935xx:0.015995254652662917\n",
      "zip_code_936xx:-0.007988463145372734\n",
      "zip_code_937xx:0.0026161656633021694\n",
      "zip_code_939xx:0.014156040172761272\n",
      "zip_code_913xx:0.016954163512466473\n",
      "zip_code_911xx:-0.00945053618084565\n",
      "zip_code_864xx:-0.0066815354625532385\n",
      "zip_code_894xx:-0.009450536180847164\n",
      "zip_code_874xx:0.025928131421306448\n",
      "zip_code_875xx:0.0046963823584835395\n",
      "zip_code_877xx:-0.0066815354625524015\n",
      "zip_code_880xx:-0.007715558499150933\n",
      "zip_code_882xx:-0.007715558499152873\n",
      "zip_code_883xx:0.025928131421306688\n",
      "zip_code_884xx:-0.0038572004813978407\n",
      "zip_code_890xx:0.02973930356864001\n",
      "zip_code_893xx:-0.005455178026588075\n",
      "zip_code_895xx:-0.003814179024649394\n",
      "zip_code_910xx:0.023141149771460905\n",
      "zip_code_897xx:0.027715043495242495\n",
      "zip_code_900xx:0.006205093394001332\n",
      "zip_code_902xx:0.004209538754553406\n",
      "zip_code_903xx:0.004696382358483123\n",
      "zip_code_904xx:-0.005649760603054676\n",
      "zip_code_905xx:0.008288602927170359\n",
      "zip_code_906xx:0.022410026035894353\n",
      "zip_code_907xx:0.01696409018270016\n",
      "zip_code_908xx:-0.018110902272111255\n",
      "zip_code_940xx:-0.009549369140570255\n",
      "zip_code_943xx:-0.005455178026587907\n",
      "zip_code_944xx:0.00105292000030343\n",
      "zip_code_985xx:-0.0016438152000565161\n",
      "zip_code_974xx:0.013002778784166774\n",
      "zip_code_975xx:-0.00771555849915244\n",
      "zip_code_976xx:-0.006681535462553573\n",
      "zip_code_977xx:-0.011576233327283048\n",
      "zip_code_978xx:-0.007715558499148687\n",
      "zip_code_980xx:-0.004997013072883163\n",
      "zip_code_982xx:-0.012301352924759363\n",
      "zip_code_983xx:0.01606636030194124\n",
      "zip_code_984xx:0.010529229528088352\n",
      "zip_code_986xx:0.017420864884796397\n",
      "zip_code_945xx:0.013974306022193012\n",
      "zip_code_988xx:-0.005455178026589612\n",
      "zip_code_989xx:-0.007715558499152063\n",
      "zip_code_990xx:-0.006681535462554765\n",
      "zip_code_991xx:-0.005455178026587436\n",
      "zip_code_992xx:-0.005649760603054109\n",
      "zip_code_993xx:-0.010913631288972526\n",
      "zip_code_995xx:0.025489731066173155\n",
      "zip_code_996xx:0.0010529200003016083\n",
      "zip_code_997xx:0.004696382358485805\n",
      "zip_code_973xx:-0.0056497606030537564\n",
      "zip_code_972xx:0.009550927686427412\n",
      "zip_code_971xx:-0.000536538569466897\n",
      "zip_code_970xx:-0.016378644864230563\n",
      "zip_code_946xx:-0.016150626411135613\n",
      "zip_code_947xx:-0.00862668816204444\n",
      "zip_code_948xx:-0.0066815354625546905\n",
      "zip_code_949xx:-0.01220303206310624\n",
      "zip_code_950xx:-0.003682322668218612\n",
      "zip_code_951xx:-0.012280520050577374\n",
      "zip_code_952xx:0.010882091929659644\n",
      "zip_code_953xx:0.00013367656703729244\n",
      "zip_code_954xx:0.0057729879672805285\n",
      "zip_code_955xx:0.01051675401634672\n",
      "zip_code_956xx:0.010637607808696334\n",
      "zip_code_957xx:-0.006476069113551954\n",
      "zip_code_958xx:-0.00954936914057027\n",
      "zip_code_959xx:0.009399820757570681\n",
      "zip_code_960xx:-0.011576233327283044\n",
      "zip_code_961xx:0.0027123160467553316\n",
      "zip_code_967xx:0.005429523802219781\n",
      "zip_code_968xx:0.0010529200003037977\n",
      "zip_code_969xx:-0.003857200481399174\n",
      "zip_code_871xx:0.023690254078727768\n",
      "zip_code_863xx:0.014875168274356552\n",
      "zip_code_719xx:0.0156072853965359\n",
      "zip_code_765xx:-0.007380732732556575\n",
      "zip_code_754xx:0.020689548119251586\n",
      "zip_code_756xx:-0.012203032063107317\n",
      "zip_code_757xx:-0.009450536180845322\n",
      "zip_code_759xx:0.01051675401634721\n",
      "zip_code_760xx:-0.0038827168465685033\n",
      "zip_code_761xx:-0.013843873750010624\n",
      "zip_code_762xx:0.01483739456836759\n",
      "zip_code_763xx:0.0027123160467554\n",
      "zip_code_764xx:-0.005455178026588463\n",
      "zip_code_766xx:-0.006681535462550424\n",
      "zip_code_751xx:0.010882091929658586\n",
      "zip_code_767xx:0.007179342078364925\n",
      "zip_code_768xx:-0.0038572004814002195\n",
      "zip_code_773xx:0.010063988929894376\n",
      "zip_code_775xx:0.003772916099296684\n",
      "zip_code_777xx:-0.00545517802658667\n",
      "zip_code_778xx:-0.005455178026587677\n",
      "zip_code_780xx:-0.008626688162044288\n",
      "zip_code_781xx:-0.008626688162044992\n",
      "zip_code_782xx:-0.005568049281969758\n",
      "zip_code_752xx:-0.020443496061477304\n",
      "zip_code_750xx:-0.012546587500355946\n",
      "zip_code_860xx:0.0027123160467547626\n",
      "zip_code_730xx:-0.007988463145372644\n",
      "zip_code_720xx:-0.003814179024649658\n",
      "zip_code_721xx:-0.008626688162045117\n",
      "zip_code_722xx:-0.006681535462553764\n",
      "zip_code_723xx:-0.0038572004813981244\n",
      "zip_code_724xx:0.0220742426558816\n",
      "zip_code_726xx:-0.005455178026587968\n",
      "zip_code_727xx:-0.014441713779670835\n",
      "zip_code_728xx:-0.0038572004814002667\n",
      "zip_code_729xx:-0.005455178026589352\n",
      "zip_code_731xx:-0.0039332583311817776\n",
      "zip_code_749xx:-0.003857200481399099\n",
      "zip_code_735xx:-0.0064760691135531305\n",
      "zip_code_737xx:0.0027123160467537252\n",
      "zip_code_739xx:-0.0038572004813989987\n",
      "zip_code_740xx:-0.0031495356919002083\n",
      "zip_code_741xx:0.021042982349249256\n",
      "zip_code_743xx:-0.0038572004814002706\n",
      "zip_code_744xx:0.02771504349524049\n",
      "zip_code_745xx:-0.0038572004813980094\n",
      "zip_code_748xx:-0.007715558499151187\n",
      "zip_code_783xx:-0.006681535462552646\n",
      "zip_code_784xx:0.0071793420783627555\n",
      "zip_code_786xx:0.005279960964729999\n",
      "zip_code_837xx:-0.003857200481397053\n",
      "zip_code_824xx:-0.00771555849915226\n",
      "zip_code_825xx:-0.00668153546255279\n",
      "zip_code_826xx:-0.006681535462551609\n",
      "zip_code_827xx:-0.003857200481399352\n",
      "zip_code_828xx:-0.006681535462552714\n",
      "zip_code_829xx:-0.007715558499151551\n",
      "zip_code_830xx:-0.005455178026588773\n",
      "zip_code_831xx:-0.003857200481397272\n",
      "zip_code_836xx:-0.0038572004813997238\n",
      "zip_code_840xx:0.001680851393469412\n",
      "zip_code_788xx:-0.0038572004813991955\n",
      "zip_code_841xx:-0.0005365385694654203\n",
      "zip_code_843xx:-0.0054551780265893945\n",
      "zip_code_846xx:-0.01020825647352803\n",
      "zip_code_847xx:0.018019452879014384\n",
      "zip_code_850xx:-0.014576994295593495\n",
      "zip_code_851xx:0.01487516827435484\n",
      "zip_code_853xx:-0.015005420946326363\n",
      "zip_code_856xx:-0.002779841280784054\n",
      "zip_code_857xx:0.0125687060588295\n",
      "zip_code_820xx:-0.005455178026588043\n",
      "zip_code_816xx:0.0010529200003025398\n",
      "zip_code_815xx:0.007179342078364346\n",
      "zip_code_813xx:-0.0038572004813978876\n",
      "zip_code_790xx:-0.008626688162046918\n",
      "zip_code_421xx:-0.008626688162044413\n",
      "zip_code_793xx:0.010516754016345343\n",
      "zip_code_794xx:0.010516754016345678\n",
      "zip_code_795xx:-0.006681535462551578\n",
      "zip_code_796xx:-0.005455178026588578\n",
      "zip_code_797xx:-0.00862668816204571\n",
      "zip_code_798xx:-0.0038572004814004016\n",
      "zip_code_799xx:-0.01444171377966956\n",
      "zip_code_800xx:0.00451414483239201\n",
      "zip_code_801xx:0.003702227327316455\n",
      "zip_code_802xx:-0.01169127340483053\n",
      "zip_code_803xx:-0.005455178026590064\n",
      "zip_code_804xx:-0.009450536180847688\n",
      "zip_code_805xx:-0.0005365385694659167\n",
      "zip_code_806xx:-0.0047660720447582055\n",
      "zip_code_809xx:-0.0014568028496020984\n",
      "zip_code_810xx:0.007179342078360872\n",
      "zip_code_811xx:0.015607285396536516\n",
      "zip_code_423xx:-0.00385720048140011\n",
      "zip_code_337xx:-0.009723289236147886\n",
      "zip_code_420xx:-0.005455178026589227\n",
      "zip_code_176xx:-0.006681535462553316\n",
      "zip_code_087xx:0.007316829945667086\n",
      "zip_code_088xx:-0.01507130831901877\n",
      "zip_code_089xx:-0.010913631288972383\n",
      "zip_code_100xx:-0.015431574692785149\n",
      "zip_code_101xx:-0.01091363128897241\n",
      "zip_code_102xx:-0.003857200481399791\n",
      "zip_code_103xx:-0.000759388850308563\n",
      "zip_code_104xx:0.00018926549703307915\n",
      "zip_code_105xx:-0.006032922533010747\n",
      "zip_code_106xx:0.008288602927170957\n",
      "zip_code_107xx:-0.003814179024648933\n",
      "zip_code_108xx:-0.009450536180848908\n",
      "zip_code_109xx:-0.010792979567169295\n",
      "zip_code_110xx:-0.013915686869408443\n",
      "zip_code_111xx:-0.012771958784952367\n",
      "zip_code_114xx:-0.003528457661924546\n",
      "zip_code_115xx:-0.006744296382123156\n",
      "zip_code_116xx:0.007179342078362244\n",
      "zip_code_118xx:-0.005455178026589485\n",
      "zip_code_119xx:0.010155154983174632\n",
      "zip_code_120xx:0.0069153860064392605\n",
      "zip_code_086xx:0.0038369460865759464\n",
      "zip_code_085xx:-0.011187415023158275\n",
      "zip_code_084xx:0.015607285396539314\n",
      "zip_code_072xx:0.018221021054397078\n",
      "zip_code_061xx:-0.013915686869409175\n",
      "zip_code_062xx:-0.0016438152000565582\n",
      "zip_code_063xx:0.006915386006438618\n",
      "zip_code_064xx:0.0037729160992969447\n",
      "zip_code_065xx:0.01875358350177046\n",
      "zip_code_066xx:0.00383694608657651\n",
      "zip_code_067xx:-0.0014568028496021999\n",
      "zip_code_069xx:-0.008626688162043799\n",
      "zip_code_071xx:0.02104298234924409\n",
      "zip_code_073xx:-0.015916384483361922\n",
      "zip_code_083xx:0.006643349501534174\n",
      "zip_code_074xx:0.0036898469180917997\n",
      "zip_code_075xx:-0.0016438152000565465\n",
      "zip_code_076xx:0.004514144832392495\n",
      "zip_code_077xx:0.0021080561750161653\n",
      "zip_code_078xx:-0.0005365385694654821\n",
      "zip_code_079xx:0.0010529200003036084\n",
      "zip_code_080xx:0.013277805820930732\n",
      "zip_code_081xx:0.008288602927169783\n",
      "zip_code_082xx:0.006643349501535222\n",
      "zip_code_121xx:-0.002779841280784079\n",
      "zip_code_122xx:-0.005455178026590408\n",
      "zip_code_123xx:0.007179342078360467\n",
      "zip_code_161xx:0.018019452879014384\n",
      "zip_code_150xx:0.008138445133698779\n",
      "zip_code_151xx:-0.010208256473527329\n",
      "zip_code_153xx:0.010516754016349356\n",
      "zip_code_154xx:-0.00668153546255249\n",
      "zip_code_156xx:-0.007715558499151655\n",
      "zip_code_157xx:-0.005455178026587146\n",
      "zip_code_158xx:-0.00862668816204466\n",
      "zip_code_159xx:-0.003857200481400582\n",
      "zip_code_160xx:-0.01157623332728352\n",
      "zip_code_163xx:-0.005455178026590105\n",
      "zip_code_148xx:0.007179342078362507\n",
      "zip_code_164xx:0.010516754016349328\n",
      "zip_code_165xx:0.025928131421305397\n",
      "zip_code_166xx:-0.0054551780265897805\n",
      "zip_code_167xx:-0.0038572004813996756\n",
      "zip_code_168xx:-0.003857200481399008\n",
      "zip_code_170xx:-0.013369090176095241\n",
      "zip_code_171xx:-0.008626688162046496\n",
      "zip_code_173xx:0.014156040172760107\n",
      "zip_code_174xx:0.0027123160467521293\n",
      "zip_code_149xx:-0.005455178026590178\n",
      "zip_code_147xx:0.014875168274355251\n",
      "zip_code_124xx:-0.009450536180844439\n",
      "zip_code_134xx:-0.009450536180845464\n",
      "zip_code_125xx:-0.013915686869408233\n",
      "zip_code_126xx:0.015607285396539827\n",
      "zip_code_127xx:-0.008626688162044715\n",
      "zip_code_128xx:0.02357527294796636\n",
      "zip_code_129xx:-0.005455178026587785\n",
      "zip_code_130xx:-0.002325753517829523\n",
      "zip_code_131xx:-0.0102082564735293\n",
      "zip_code_132xx:0.0027123160467556\n",
      "zip_code_133xx:-0.006681535462552595\n",
      "zip_code_135xx:-0.005455178026588918\n",
      "zip_code_146xx:-0.018518867670657142\n",
      "zip_code_136xx:-0.0016438152000565662\n",
      "zip_code_137xx:-0.006681535462553583\n",
      "zip_code_138xx:-0.00545517802658885\n",
      "zip_code_139xx:-0.003857200481399538\n",
      "zip_code_140xx:-0.009988918301892845\n",
      "zip_code_141xx:-0.006681535462552748\n",
      "zip_code_142xx:0.0014895755525643761\n",
      "zip_code_144xx:0.008288602927170218\n",
      "zip_code_145xx:-0.009352199191030523\n",
      "zip_code_060xx:-0.003292081723305761\n",
      "zip_code_057xx:-0.0038572004813989392\n",
      "zip_code_056xx:-0.00545517802658773\n",
      "earliest_cr_cohort_1973:-0.0023257535178296397\n",
      "addr_state_SD:-0.009988918301890661\n",
      "addr_state_TN:0.0046963823584856386\n",
      "addr_state_UT:0.004327252555387544\n",
      "addr_state_VT:-0.0023257535178298552\n",
      "addr_state_WV:-0.003682322668219166\n",
      "addr_state_WY:-0.0185188676706569\n",
      "earliest_cr_cohort_1970:-0.014441713779669728\n",
      "earliest_cr_cohort_1971:-0.003814179024649701\n",
      "earliest_cr_cohort_1972:0.002616165663302085\n",
      "earliest_cr_cohort_1974:0.009455220218680428\n",
      "addr_state_RI:-0.0076440959786441024\n",
      "earliest_cr_cohort_1975:-0.0014568028496022274\n",
      "earliest_cr_cohort_1976:-0.02150827325510186\n",
      "earliest_cr_cohort_1977:0.002108056175016423\n",
      "earliest_cr_cohort_1978:-0.010286735114148064\n",
      "earliest_cr_cohort_1979:0.0019640975176877123\n",
      "earliest_cr_cohort_1980:-0.014576994295593821\n",
      "earliest_cr_cohort_1981:0.00038242189776854416\n",
      "earliest_cr_cohort_1982:0.0021589174851893403\n",
      "earliest_cr_cohort_1986:-0.00840581495193548\n",
      "addr_state_SC:0.0018237680271977587\n",
      "addr_state_OK:0.0009342534464799017\n",
      "earliest_cr_cohort_1992:-0.003583449431276849\n",
      "addr_state_KS:-0.013378085655853161\n",
      "addr_state_AK:0.021248328404647\n",
      "addr_state_AL:0.015352523054006492\n",
      "addr_state_AR:-0.005240087037425434\n",
      "addr_state_DC:-0.016227773257604286\n",
      "addr_state_DE:-0.007728737152197635\n",
      "addr_state_HI:0.004514144832390628\n",
      "addr_state_IA:-0.0054551780265888125\n",
      "addr_state_ID:-0.003857200481397053\n",
      "addr_state_IN:-0.006681535462552251\n",
      "addr_state_LA:-0.013861784746788501\n",
      "addr_state_OH:-0.013822857325032236\n",
      "addr_state_MD:-0.006331214001646273\n",
      "addr_state_ME:-0.0038572004814001405\n",
      "addr_state_MS:-0.0016438152000563884\n",
      "addr_state_MT:-0.0014165042618044324\n",
      "addr_state_NC:0.01700962597915765\n",
      "addr_state_NE:0.010516754016346877\n",
      "addr_state_NH:0.006439527900537049\n",
      "addr_state_NJ:0.0063700765375700645\n",
      "addr_state_NM:0.02017125874771686\n",
      "earliest_cr_cohort_1988:0.0009750265823003118\n",
      "earliest_cr_cohort_1995:-0.005484442245688575\n",
      "zip_code_054xx:-0.011576233327282874\n",
      "zip_code_029xx:-0.01391568686940763\n",
      "zip_code_016xx:-0.0077155584991522265\n",
      "zip_code_017xx:-0.0027798412807842504\n",
      "zip_code_018xx:0.014159471087029373\n",
      "zip_code_019xx:-0.0031495356919020072\n",
      "zip_code_020xx:0.0036898469180934534\n",
      "zip_code_023xx:0.012568706058830223\n",
      "zip_code_025xx:0.01231409647413376\n",
      "zip_code_026xx:0.0313425233995422\n",
      "zip_code_028xx:-0.0008493634497914859\n",
      "zip_code_030xx:0.001824989772605132\n",
      "zip_code_014xx:-0.00476607204475835\n",
      "zip_code_031xx:0.008288602927170435\n",
      "zip_code_034xx:0.02592813142130607\n",
      "zip_code_035xx:-0.0038572004813989575\n",
      "zip_code_037xx:-0.003857200481397285\n",
      "zip_code_038xx:-0.0056497606030525655\n",
      "zip_code_041xx:-0.0038572004814001405\n",
      "zip_code_050xx:0.015607285396541227\n",
      "zip_code_051xx:-0.0038572004814004003\n",
      "zip_code_053xx:0.015607285396536975\n",
      "zip_code_015xx:0.005170930574055731\n",
      "zip_code_013xx:0.012314096474132055\n",
      "earliest_cr_cohort_2002:-0.005639576290908032\n",
      "purpose_cat_major purchase small business:0.05798866444059808\n",
      "emp_length_11:0.0366697488196683\n",
      "emp_length_22:0.057988664440595535\n",
      "emp_length_33:0.025928131421304887\n",
      "emp_length_7:-0.0007704866982310881\n",
      "home_ownership_NONE:-0.0038572004813997897\n",
      "home_ownership_OTHER:-0.0020619867690781423\n",
      "initial_list_status_f:0.00868659366647489\n",
      "initial_list_status_m:-0.008686593666474883\n",
      "purpose_cat_educational:-0.022743324585946897\n",
      "purpose_cat_medical:0.0028920777226167788\n",
      "zip_code_012xx:-0.005455178026589632\n",
      "purpose_cat_medical small business:0.03666974881966676\n",
      "purpose_cat_moving small business:0.04491333297414078\n",
      "purpose_cat_renewable energy:-0.003149535691901667\n",
      "purpose_cat_vacation:-0.006706985474249558\n",
      "purpose_cat_vacation small business:0.03666974881966651\n",
      "purpose_cat_wedding small business:0.036669748819668585\n",
      "zip_code_007xx:-0.0038572004814006384\n",
      "zip_code_010xx:-0.0007593888503091022\n",
      "zip_code_011xx:0.004696382358487021\n",
      "zip_code_175xx:0.002712316046755216\n",
      "zip_code_177xx:-0.008626688162046191\n",
      "zip_code_415xx:-0.0038572004814001917\n",
      "zip_code_178xx:-0.008626688162044316\n",
      "zip_code_317xx:0.010516754016348377\n",
      "zip_code_318xx:-0.006681535462551825\n",
      "zip_code_319xx:-0.01020825647352712\n",
      "zip_code_320xx:-0.0014165042618048147\n",
      "zip_code_321xx:0.0014895755525645069\n",
      "zip_code_322xx:-0.002685515519442564\n",
      "zip_code_323xx:-0.007253413275189347\n",
      "zip_code_324xx:-0.00037923815289973856\n",
      "zip_code_325xx:0.010511952679699727\n",
      "zip_code_326xx:-0.006083838178860718\n",
      "zip_code_327xx:0.00787945371246964\n",
      "zip_code_328xx:-0.009086009490551786\n",
      "zip_code_329xx:0.004700692155369946\n",
      "zip_code_331xx:0.0029679265349572895\n",
      "zip_code_333xx:0.0059283175098921\n",
      "zip_code_335xx:0.005279960964729753\n",
      "zip_code_336xx:0.00013367656703708824\n",
      "collections_12_mths_ex_med:nan\n",
      "zip_code_338xx:0.002616165663302877\n",
      "zip_code_339xx:0.011727137828570565\n",
      "zip_code_341xx:0.005772987967280349\n",
      "zip_code_316xx:0.022074242655882252\n",
      "zip_code_315xx:0.036969143233392954\n",
      "zip_code_314xx:0.005170930574055502\n",
      "zip_code_299xx:0.01487516827435266\n",
      "zip_code_290xx:0.00044251592925466447\n",
      "zip_code_291xx:-0.00668153546255215\n",
      "zip_code_292xx:-0.003814179024649327\n",
      "zip_code_293xx:0.0051709305740555035\n",
      "zip_code_294xx:0.012568706058829069\n",
      "zip_code_295xx:-0.0005365385694661046\n",
      "zip_code_296xx:-0.007995173390902565\n",
      "zip_code_297xx:-0.005649760603053673\n",
      "zip_code_298xx:-0.0038572004814001\n",
      "zip_code_302xx:-0.006627211271110131\n",
      "zip_code_313xx:0.0010529200003044775\n",
      "zip_code_303xx:0.002985435925333668\n",
      "zip_code_304xx:-0.009450536180847567\n",
      "zip_code_305xx:0.0009598968912208328\n",
      "zip_code_306xx:0.0014895755525657414\n",
      "zip_code_307xx:-0.003857200481398747\n",
      "zip_code_308xx:0.0010529200003037687\n",
      "zip_code_309xx:0.01606654028385088\n",
      "zip_code_310xx:0.005170930574055923\n",
      "zip_code_312xx:0.02592813142130682\n",
      "zip_code_342xx:-0.00468121262527463\n",
      "zip_code_344xx:0.013002778784167179\n",
      "zip_code_346xx:0.013673763000111278\n",
      "zip_code_401xx:-0.007715558499150776\n",
      "zip_code_388xx:-0.003857200481399474\n",
      "zip_code_390xx:-0.0038572004814001358\n",
      "zip_code_391xx:-0.0038572004813996444\n",
      "zip_code_392xx:0.010516754016348252\n",
      "zip_code_394xx:-0.005455178026590393\n",
      "zip_code_395xx:-0.005455178026588814\n",
      "zip_code_397xx:-0.003857200481398684\n",
      "zip_code_398xx:-0.006681535462552837\n",
      "zip_code_400xx:0.008288602927170085\n",
      "zip_code_402xx:-0.0021464730317933794\n",
      "zip_code_381xx:-0.003857200481397376\n",
      "zip_code_403xx:-0.003814179024649951\n",
      "zip_code_404xx:0.007179342078360592\n",
      "zip_code_405xx:-0.010208256473528276\n",
      "zip_code_406xx:0.015607285396541989\n",
      "zip_code_407xx:0.025928131421305973\n",
      "zip_code_409xx:-0.005455178026588371\n",
      "zip_code_410xx:-0.010599797875557213\n",
      "zip_code_411xx:-0.0038572004813999007\n",
      "zip_code_412xx:-0.003857200481399119\n",
      "zip_code_385xx:0.025928131421306854\n",
      "zip_code_379xx:-0.005455178026588431\n",
      "zip_code_347xx:0.013673763000111446\n",
      "zip_code_359xx:0.00271231604675377\n",
      "zip_code_349xx:0.0014895755525646062\n",
      "zip_code_350xx:-0.007253413275188763\n",
      "zip_code_351xx:0.012314096474132095\n",
      "zip_code_352xx:0.00813844513369889\n",
      "zip_code_354xx:0.008288602927169646\n",
      "zip_code_355xx:0.010516754016345524\n",
      "zip_code_356xx:0.002712316046755348\n",
      "zip_code_357xx:-0.01020825647352785\n",
      "zip_code_358xx:0.00469638235848687\n",
      "zip_code_360xx:0.03134252339954172\n",
      "zip_code_376xx:0.015607285396537638\n",
      "zip_code_361xx:-0.0003792381528988037\n",
      "zip_code_362xx:0.007179342078365392\n",
      "zip_code_363xx:0.01415604017276031\n",
      "zip_code_364xx:-0.0038572004813980567\n",
      "zip_code_365xx:0.0046963823584869\n",
      "zip_code_366xx:-0.00037923815289908044\n",
      "zip_code_368xx:-0.009450536180844456\n",
      "zip_code_370xx:0.010516754016349494\n",
      "zip_code_371xx:-0.0038572004813976824\n",
      "zip_code_288xx:0.010516754016346844\n",
      "zip_code_287xx:-0.004766072044757688\n",
      "zip_code_286xx:-0.009450536180846283\n",
      "zip_code_220xx:-0.011306456215714905\n",
      "zip_code_210xx:-0.018599268381260553\n",
      "zip_code_211xx:0.0004425159292560375\n",
      "zip_code_212xx:0.001101521059313847\n",
      "zip_code_214xx:-0.007715558499151728\n",
      "zip_code_215xx:-0.00545517802658883\n",
      "zip_code_216xx:-0.010208256473527664\n",
      "zip_code_217xx:-0.018110902272110204\n",
      "zip_code_218xx:-0.008626688162043827\n",
      "zip_code_219xx:-0.010208256473526939\n",
      "zip_code_221xx:-0.0014165042618041962\n",
      "zip_code_208xx:0.003378477168866753\n",
      "zip_code_222xx:-0.012301352924759533\n",
      "zip_code_223xx:0.0060722184763116445\n",
      "zip_code_224xx:0.004696382358484712\n",
      "zip_code_225xx:-0.004766072044758667\n",
      "zip_code_226xx:0.010882091929658515\n",
      "zip_code_227xx:-0.0038572004813998933\n",
      "zip_code_228xx:0.008288602927170041\n",
      "zip_code_229xx:-0.0038141790246493776\n",
      "zip_code_230xx:-0.010208256473527777\n",
      "zip_code_209xx:0.014367310582343815\n",
      "zip_code_207xx:2.8448387879176843e-05\n",
      "zip_code_232xx:-0.0006573862899534442\n",
      "zip_code_188xx:-0.00385720048139694\n",
      "zip_code_179xx:-0.005455178026587363\n",
      "zip_code_180xx:-0.009723289236147431\n",
      "zip_code_181xx:-0.007715558499150765\n",
      "zip_code_182xx:-0.005455178026590218\n",
      "zip_code_183xx:-0.003857200481398303\n",
      "zip_code_184xx:-0.011576233327283764\n",
      "zip_code_185xx:-0.007715558499153152\n",
      "zip_code_186xx:-0.005455178026589193\n",
      "zip_code_187xx:-0.005455178026588111\n",
      "zip_code_189xx:-0.0046812126252746104\n",
      "zip_code_206xx:0.029646000480583655\n",
      "zip_code_190xx:-0.0025876927898169397\n",
      "zip_code_194xx:-0.021508273255101625\n",
      "zip_code_195xx:-0.008626688162044436\n",
      "zip_code_196xx:-0.006681535462552038\n",
      "zip_code_197xx:0.00044251592925558333\n",
      "zip_code_198xx:-0.012799288623354076\n",
      "zip_code_199xx:-0.0016438152000566289\n",
      "zip_code_200xx:-0.016227773257604286\n",
      "zip_code_201xx:-0.01452170579143727\n",
      "zip_code_231xx:0.008138445133699683\n",
      "zip_code_233xx:-0.009450536180844554\n",
      "zip_code_285xx:0.005170930574055344\n",
      "zip_code_274xx:-0.00037923815289979054\n",
      "zip_code_264xx:-0.006681535462553719\n",
      "zip_code_265xx:-0.010208256473528025\n",
      "zip_code_266xx:-0.003857200481400578\n",
      "zip_code_267xx:-0.003857200481398434\n",
      "zip_code_268xx:0.02592813142130469\n",
      "zip_code_270xx:-0.006681535462551807\n",
      "zip_code_271xx:0.015607285396539392\n",
      "zip_code_272xx:-0.0094505361808446\n",
      "zip_code_273xx:-0.00037923815289953977\n",
      "zip_code_275xx:0.002357706113312793\n",
      "zip_code_261xx:0.018019452879013433\n",
      "zip_code_276xx:0.017420864884797646\n",
      "zip_code_277xx:0.010516754016344988\n",
      "zip_code_278xx:-0.008626688162046167\n",
      "zip_code_279xx:0.010516754016346108\n",
      "zip_code_280xx:0.0026161656633016707\n",
      "zip_code_281xx:0.003836946086575935\n",
      "zip_code_282xx:0.011518154329508541\n",
      "zip_code_283xx:0.025386509550910798\n",
      "zip_code_284xx:-0.010913631288974287\n",
      "zip_code_262xx:-0.005455178026589628\n",
      "zip_code_260xx:-0.006681535462551138\n",
      "zip_code_234xx:0.009550927686427442\n",
      "zip_code_245xx:0.014156040172759695\n",
      "zip_code_235xx:0.002712316046754507\n",
      "zip_code_236xx:-0.00277984128078542\n",
      "zip_code_237xx:-0.009450536180844023\n",
      "zip_code_238xx:0.019148018196013833\n",
      "zip_code_240xx:0.0004425159292554179\n",
      "zip_code_241xx:0.0027123160467552284\n",
      "zip_code_242xx:-0.006681535462551858\n",
      "zip_code_243xx:-0.009450536180845891\n",
      "zip_code_244xx:0.0046963823584834285\n",
      "zip_code_246xx:-0.0038572004813969838\n",
      "zip_code_259xx:-0.0038572004813975944\n",
      "zip_code_247xx:-0.0038572004813995637\n",
      "zip_code_251xx:-0.0038572004813989063\n",
      "zip_code_252xx:-0.0038572004813983707\n",
      "zip_code_253xx:0.01051675401634677\n",
      "zip_code_254xx:-0.009450536180845672\n",
      "zip_code_255xx:0.015607285396536476\n",
      "zip_code_256xx:-0.0077155584991513105\n",
      "zip_code_257xx:-0.0054551780265896955\n",
      "zip_code_258xx:-0.005455178026589118\n",
      "zip_code_998xx:-0.005455178026589173\n"
     ]
    }
   ],
   "source": [
    "for i in range(tmp.shape[0]):\n",
    "    cat = tmp.iloc[i].name\n",
    "    res = df_2[[cat, 'is_bad']]\n",
    "    print(f'{cat}:{res.corr().iloc[0].is_bad}')"
   ]
  },
  {
   "cell_type": "code",
   "execution_count": 234,
   "metadata": {},
   "outputs": [
    {
     "data": {
      "image/png": "[encoded data removed]",
      "text/plain": [
       "<Figure size 432x288 with 1 Axes>"
      ]
     },
     "metadata": {
      "needs_background": "light"
     },
     "output_type": "display_data"
    }
   ],
   "source": [
    "sns.distplot(df_2.total_acc.dropna());\n",
    "plt.grid();"
   ]
  },
  {
   "cell_type": "code",
   "execution_count": 235,
   "metadata": {},
   "outputs": [
    {
     "data": {
      "image/png": "[encoded data removed]",
      "text/plain": [
       "<Figure size 432x288 with 1 Axes>"
      ]
     },
     "metadata": {
      "needs_background": "light"
     },
     "output_type": "display_data"
    }
   ],
   "source": [
    "sns.distplot(df_2.open_acc.dropna());\n",
    "plt.grid();"
   ]
  },
  {
   "cell_type": "code",
   "execution_count": 232,
   "metadata": {},
   "outputs": [
    {
     "data": {
      "text/plain": [
       "['mths_since_last_major_derog',\n",
       " 'mths_since_last_record',\n",
       " 'is_bad',\n",
       " 'revol_util',\n",
       " 'debt_to_income',\n",
       " 'mths_since_last_delinq',\n",
       " 'total_acc',\n",
       " 'open_acc',\n",
       " 'pub_rec',\n",
       " 'inq_last_6mths',\n",
       " 'annual_inc',\n",
       " 'delinq_2yrs',\n",
       " 'revol_bal',\n",
       " 'collections_12_mths_ex_med']"
      ]
     },
     "execution_count": 232,
     "metadata": {},
     "output_type": "execute_result"
    }
   ],
   "source": [
    "num_cols_to_use"
   ]
  },
  {
   "cell_type": "code",
   "execution_count": null,
   "metadata": {},
   "outputs": [],
   "source": []
  }
 ],
 "metadata": {
  "kernelspec": {
   "display_name": "Python 3",
   "language": "python",
   "name": "python3"
  },
  "language_info": {
   "codemirror_mode": {
    "name": "ipython",
    "version": 3
   },
   "file_extension": ".py",
   "mimetype": "text/x-python",
   "name": "python",
   "nbconvert_exporter": "python",
   "pygments_lexer": "ipython3",
   "version": "3.8.2"
  }
 },
 "nbformat": 4,
 "nbformat_minor": 4
}
