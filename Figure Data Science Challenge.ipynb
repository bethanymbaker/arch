{
 "cells": [
  {
   "cell_type": "code",
   "execution_count": 1,
   "metadata": {},
   "outputs": [],
   "source": [
    "# Import dependencies\n",
    "import pandas as pd\n",
    "import matplotlib.pyplot as plt\n",
    "import seaborn as sns\n",
    "from datetime import datetime\n",
    "from sklearn.model_selection import train_test_split\n",
    "from sklearn.metrics import f1_score, roc_auc_score, accuracy_score, roc_curve\n",
    "from xgboost import XGBClassifier\n",
    "from sklearn.feature_selection import mutual_info_classif\n",
    "\n",
    "pd.set_option('display.max_rows', 500)\n",
    "pd.set_option('display.max_columns', 100)\n",
    "pd.set_option('display.width', 150)"
   ]
  },
  {
   "cell_type": "code",
   "execution_count": 2,
   "metadata": {},
   "outputs": [
    {
     "name": "stdout",
     "output_type": "stream",
     "text": [
      "Shape of dataset is (587404, 20)\n"
     ]
    }
   ],
   "source": [
    "# Origination wrangling\n",
    "origination_data_file = \"~/Desktop/Figure/historical_data1_2009/historical_data1_Q12009/historical_data1_Q12009.txt\"\n",
    "origination_names = [\"fico\",\n",
    "                     \"first_payment_date\",\n",
    "                     \"is_first_time_home_buyer\",\n",
    "                     \"maturity_date\",\n",
    "                     \"msa\",\n",
    "                     \"mort_ins_pct\",\n",
    "                     \"num_units\",\n",
    "                     \"occpy_sts\",\n",
    "                     \"cltv\",\n",
    "                     \"dti\",\n",
    "                     \"orig_upb\",\n",
    "                     \"ltv\",\n",
    "                     \"interest_rate\",\n",
    "                     \"channel\",\n",
    "                     \"is_ppmt_pnlty\",\n",
    "                     \"prod_type\",\n",
    "                     \"state\",\n",
    "                     \"prop_type\",\n",
    "                     \"zipcode\",\n",
    "                     \"id_loan\",\n",
    "                     \"loan_purpose\",\n",
    "                     \"orig_loan_term\",\n",
    "                     \"num_borr\",\n",
    "                     \"seller_name\",\n",
    "                     \"servicer_name\",\n",
    "                     \"is_super_conforming\"]\n",
    "\n",
    "origination = pd.read_csv(origination_data_file,\n",
    "                          header=None,\n",
    "                          delimiter='|',\n",
    "                          names=origination_names,\n",
    "                          index_col='id_loan',\n",
    "                          na_values={'fico': 9999,\n",
    "                                     'is_first_time_home_buyer': 9,\n",
    "                                     'mort_ins_pct': 999,\n",
    "                                     'num_units': 99,\n",
    "                                     'occpy_sts': 9,\n",
    "                                     'cltv': 999,\n",
    "                                     'dti': 999,\n",
    "                                     'ltv': 999,\n",
    "                                     'channel': 9,\n",
    "                                     'prop_type': 99,\n",
    "                                     'loan_purpose': 9,\n",
    "                                     'num_borr': 99})\\\n",
    "    .drop(columns=['first_payment_date',\n",
    "                   'maturity_date',\n",
    "                   'prod_type',\n",
    "                   'seller_name',\n",
    "                   'servicer_name'])\n",
    "\n",
    "print(f\"Shape of dataset is {origination.shape}\")"
   ]
  },
  {
   "cell_type": "code",
   "execution_count": 3,
   "metadata": {},
   "outputs": [
    {
     "data": {
      "image/png": "[encoded data removed]",
      "text/plain": [
       "<Figure size 432x288 with 1 Axes>"
      ]
     },
     "metadata": {
      "needs_background": "light"
     },
     "output_type": "display_data"
    }
   ],
   "source": [
    "# Examine correlation of numeric features\n",
    "numeric_features = ['fico',\n",
    "                    'mort_ins_pct',\n",
    "                    'num_units',\n",
    "                    'cltv',\n",
    "                    'dti',\n",
    "                    'orig_upb',\n",
    "                    'ltv',\n",
    "                    'interest_rate',\n",
    "                    'orig_loan_term']\n",
    "\n",
    "corr_ = origination[numeric_features].corr().stack().reset_index()\\\n",
    "    .sort_values(by=0, ascending=False)\\\n",
    "    .rename(columns={0: 'corr'})\n",
    "corr_ = corr_[corr_.level_0 != corr_.level_1]\n",
    "corr_['feature_pair'] = corr_[['level_0', 'level_1']]\\\n",
    "    .apply(lambda r: \"_\".join(sorted([r['level_0'], r['level_1']])), axis=1)\n",
    "corr_ = corr_[['feature_pair', 'corr']].drop_duplicates()\n",
    "\n",
    "sns.distplot(corr_['corr'])\n",
    "plt.title('Correlation of numeric features')\n",
    "plt.grid()"
   ]
  },
  {
   "cell_type": "code",
   "execution_count": 4,
   "metadata": {},
   "outputs": [
    {
     "name": "stdout",
     "output_type": "stream",
     "text": [
      "                    feature_pair      corr\n",
      "57                      cltv_ltv  0.952995\n",
      "15              ltv_mort_ins_pct  0.406588\n",
      "12             cltv_mort_ins_pct  0.382309\n",
      "79  interest_rate_orig_loan_term  0.281022\n",
      "77       orig_loan_term_orig_upb  0.239303\n",
      "35           cltv_orig_loan_term  0.170972\n",
      "78            ltv_orig_loan_term  0.163207\n",
      "31                      cltv_dti  0.149385\n",
      "58                       dti_ltv  0.144936\n",
      "69             interest_rate_ltv  0.129715\n",
      "66            cltv_interest_rate  0.119918\n",
      "41                  dti_orig_upb  0.118037\n",
      "32                 cltv_orig_upb  0.116530\n",
      "73   mort_ins_pct_orig_loan_term  0.094724\n",
      "67             dti_interest_rate  0.094139\n",
      "76            dti_orig_loan_term  0.093862\n",
      "25       interest_rate_num_units  0.084283\n",
      "51                  ltv_orig_upb  0.073345\n",
      "64    interest_rate_mort_ins_pct  0.069935\n",
      "37              dti_mort_ins_pct  0.058410\n",
      "22                 dti_num_units  0.048403\n",
      "23            num_units_orig_upb  0.019071\n",
      "5                  fico_orig_upb  0.017901\n",
      "26      num_units_orig_loan_term  0.011768\n",
      "56                 ltv_num_units -0.009662\n",
      "21                cltv_num_units -0.014377\n",
      "72           fico_orig_loan_term -0.015881\n",
      "11        mort_ins_pct_num_units -0.019271\n",
      "2                 fico_num_units -0.021018\n",
      "46         mort_ins_pct_orig_upb -0.024992\n",
      "52        interest_rate_orig_upb -0.073591\n",
      "1              fico_mort_ins_pct -0.079559\n",
      "54                      fico_ltv -0.136224\n",
      "27                     cltv_fico -0.139161\n",
      "7             fico_interest_rate -0.195200\n",
      "36                      dti_fico -0.211474\n"
     ]
    }
   ],
   "source": [
    "print(corr_)\n",
    "# Note that cltv and ltv are highly correlated 0.952995. Will (mostly likely) need to eliminate one"
   ]
  },
  {
   "cell_type": "code",
   "execution_count": 5,
   "metadata": {},
   "outputs": [
    {
     "name": "stdout",
     "output_type": "stream",
     "text": [
      "Number of missing observations for each numeric feature:\n",
      "fico                25\n",
      "mort_ins_pct         5\n",
      "num_units            0\n",
      "cltv                33\n",
      "dti               2602\n",
      "orig_upb             0\n",
      "ltv                 15\n",
      "interest_rate        0\n",
      "orig_loan_term       0\n",
      "dtype: int64\n"
     ]
    }
   ],
   "source": [
    "# Print number of missing observations\n",
    "print(\"Number of missing observations for each numeric feature:\")\n",
    "print(origination[numeric_features].isna().sum())"
   ]
  },
  {
   "cell_type": "code",
   "execution_count": 6,
   "metadata": {},
   "outputs": [
    {
     "name": "stdout",
     "output_type": "stream",
     "text": [
      "               fico  mort_ins_pct  num_units  cltv   dti  orig_upb   ltv  interest_rate  orig_loan_term  is_first_time_home_buyer_Y  \\\n",
      "id_loan                                                                                                                               \n",
      "F109Q1000001  776.0           0.0          1  80.0  21.0    274000  80.0          4.750             360                           0   \n",
      "F109Q1000002  771.0           0.0          1  53.0  16.0    144000  53.0          4.875             360                           0   \n",
      "F109Q1000003  731.0           0.0          1  28.0  10.0    154000  28.0          4.875             360                           0   \n",
      "F109Q1000004  755.0           0.0          1  95.0  28.0    140000  80.0          4.875             360                           0   \n",
      "F109Q1000005  732.0          12.0          1  88.0  34.0    384000  88.0          5.250             360                           0   \n",
      "\n",
      "              is_first_time_home_buyer_nan  channel_C  channel_R  is_ppmt_pnlty_Y  is_ppmt_pnlty_nan  prop_type_CP  prop_type_MH  prop_type_PU  \\\n",
      "id_loan                                                                                                                                          \n",
      "F109Q1000001                             0          0          1                0                  0             0             0             0   \n",
      "F109Q1000002                             0          0          1                0                  0             0             0             0   \n",
      "F109Q1000003                             0          0          1                0                  0             0             0             0   \n",
      "F109Q1000004                             0          0          1                0                  0             0             0             0   \n",
      "F109Q1000005                             0          0          1                0                  0             0             0             0   \n",
      "\n",
      "              prop_type_SF  msa_10380.0  msa_10420.0  msa_10500.0  msa_10540.0  msa_10580.0  msa_10740.0  msa_10780.0  msa_10900.0  msa_11020.0  \\\n",
      "id_loan                                                                                                                                           \n",
      "F109Q1000001             1            0            0            0            0            0            0            0            0            0   \n",
      "F109Q1000002             1            0            0            0            0            0            0            0            0            0   \n",
      "F109Q1000003             1            0            0            0            0            0            0            0            0            0   \n",
      "F109Q1000004             1            0            0            0            0            0            0            0            0            0   \n",
      "F109Q1000005             1            0            0            0            0            0            0            0            0            0   \n",
      "\n",
      "              msa_11100.0  msa_11180.0  \n",
      "id_loan                                 \n",
      "F109Q1000001            0            0  \n",
      "F109Q1000002            0            0  \n",
      "F109Q1000003            0            0  \n",
      "F109Q1000004            0            0  \n",
      "F109Q1000005            0            0  \n"
     ]
    }
   ],
   "source": [
    "# One-hot encoding of categorical features\n",
    "category_features = ['is_first_time_home_buyer',\n",
    "                     'channel',\n",
    "                     'is_ppmt_pnlty',\n",
    "                     'prop_type',\n",
    "                     'msa',\n",
    "                     'occpy_sts',\n",
    "                     'state',\n",
    "                     'zipcode',\n",
    "                     'loan_purpose',\n",
    "                     'num_borr',\n",
    "                     'is_super_conforming']\n",
    "\n",
    "for col in category_features:\n",
    "    new_col = origination[col].astype('category')\n",
    "    if len(new_col[new_col.isna()]) > 0:\n",
    "        dumm = pd.get_dummies(new_col, prefix=col, drop_first=True, dummy_na=True)\n",
    "    else:\n",
    "        dumm = pd.get_dummies(new_col, prefix=col, drop_first=True)\n",
    "    for coll in dumm.columns:\n",
    "        origination[coll] = dumm[coll]\n",
    "    del origination[col]\n",
    "    \n",
    "print(origination.iloc[:5, :30]) "
   ]
  },
  {
   "cell_type": "code",
   "execution_count": 7,
   "metadata": {},
   "outputs": [],
   "source": [
    "# Look at kernel density plots of all numeric features\n",
    "\n",
    "plot_flag = False\n",
    "if plot_flag:\n",
    "    fig, axes = plt.subplots(3, 3, figsize=(12, 12))\n",
    "\n",
    "    sns.distplot(origination[~origination['fico'].isna()]['fico'], ax=axes[0, 0])\n",
    "    axes[0, 0].set_xlabel('fico')\n",
    "    axes[0, 0].grid()\n",
    "\n",
    "    sns.distplot(origination[~origination['mort_ins_pct'].isna() & (origination.mort_ins_pct != 0)]['mort_ins_pct'], ax=axes[0, 1])\n",
    "    axes[0, 1].set_xlabel('mort_ins_pct')\n",
    "    axes[0, 1].grid()\n",
    "\n",
    "    sns.distplot(origination[~origination['cltv'].isna()]['cltv'], ax=axes[0, 2])\n",
    "    axes[0, 2].set_xlabel('cltv')\n",
    "    axes[0, 2].grid()\n",
    "\n",
    "    sns.distplot(origination[~origination['dti'].isna()]['dti'], ax=axes[1, 0])\n",
    "    axes[1, 0].set_xlabel('dti')\n",
    "    axes[1, 0].grid()\n",
    "\n",
    "    sns.distplot(origination[~origination['ltv'].isna()]['ltv'], ax=axes[1, 1])\n",
    "    axes[1, 1].set_xlabel('ltv')\n",
    "    axes[1, 1].grid()\n",
    "\n",
    "    sns.distplot(origination[~origination['interest_rate'].isna()]['interest_rate'], ax=axes[1, 2])\n",
    "    axes[1, 2].set_xlabel('interest_rate')\n",
    "    axes[1, 2].grid()\n",
    "\n",
    "    sns.distplot(origination[~origination['num_units'].isna()]['num_units'], ax=axes[2, 0])\n",
    "    axes[2, 0].set_xlabel('num_units')\n",
    "    axes[2, 0].grid()\n",
    "\n",
    "    sns.distplot(origination[~origination['orig_upb'].isna()]['orig_upb'], ax=axes[2, 1])\n",
    "    axes[2, 1].set_xlabel('orig_upb')\n",
    "    axes[2, 1].grid()\n",
    "\n",
    "    sns.distplot(origination[~origination['orig_loan_term'].isna()]['orig_loan_term'], ax=axes[2, 2])\n",
    "    axes[2, 2].set_xlabel('orig_loan_term')\n",
    "    axes[2, 2].grid()\n",
    "\n",
    "    fig.suptitle('Distribution of numeric features')\n",
    "    fig.savefig('/Users/bethanybaker/Desktop/Figure/2019-04-17_Feature-Distributions.png')\n",
    "    plt.close(fig)"
   ]
  },
  {
   "cell_type": "code",
   "execution_count": 8,
   "metadata": {},
   "outputs": [
    {
     "name": "stdout",
     "output_type": "stream",
     "text": [
      "Loading performance data...\n",
      "time to load performance data: 0:00:27.302915\n",
      "shape of performance data (29902999, 2)\n",
      "        id_loan delq_sts\n",
      "0  F109Q1000001        0\n",
      "1  F109Q1000001        0\n",
      "2  F109Q1000001        0\n",
      "3  F109Q1000001        0\n",
      "4  F109Q1000001        0\n"
     ]
    }
   ],
   "source": [
    "# Performance wrangling\n",
    "monthly_performance_data_file = \\\n",
    "    \"~/Desktop/Figure/historical_data1_2009/historical_data1_Q12009/historical_data1_time_Q12009.txt\"\n",
    "performance_names = [\"id_loan\",\n",
    "                     \"monthly_reporting_period\",\n",
    "                     \"current_upb\",\n",
    "                     \"delq_sts\",\n",
    "                     \"loan_age\",\n",
    "                     \"mths_remng\",\n",
    "                     \"repch_flag\",\n",
    "                     \"flag_mod\",\n",
    "                     \"cd_zero_bal\",\n",
    "                     \"dt_zero_bal\",\n",
    "                     \"current_int_rt\",\n",
    "                     \"non_int_brng_upb\",\n",
    "                     \"dt_lst_pi\",\n",
    "                     \"mi_recoveries\",\n",
    "                     \"net_sale_proceeds\",\n",
    "                     \"non_mi_recoveries\",\n",
    "                     \"expenses\",\n",
    "                     \"legal_costs\",\n",
    "                     \"maint_pres_costs\",\n",
    "                     \"taxes_ins_costs\",\n",
    "                     \"misc_costs\",\n",
    "                     \"actual_loss\",\n",
    "                     \"modcost\",\n",
    "                     \"stepmod_ind\",\n",
    "                     \"dpm_ind\",\n",
    "                     \"eltv\"]\n",
    "print(\"Loading performance data...\")\n",
    "st = datetime.now()\n",
    "performance = pd.read_csv(monthly_performance_data_file,\n",
    "                          header=None,\n",
    "                          delimiter=\"|\",\n",
    "                          names=performance_names,\n",
    "                          usecols=['id_loan', 'delq_sts'],\n",
    "                          dtype={'delq_sts': str})\n",
    "print(f\"time to load performance data: {datetime.now() - st}\")\n",
    "print(f\"shape of performance data {performance.shape}\")\n",
    "print(performance.head())\n",
    "# time to load performance data: 0:00:28.102428 (for example)"
   ]
  },
  {
   "cell_type": "code",
   "execution_count": 9,
   "metadata": {},
   "outputs": [
    {
     "name": "stdout",
     "output_type": "stream",
     "text": [
      "                            fico  mort_ins_pct  num_units  cltv   dti\n",
      "id_loan      is_deliquent                                            \n",
      "F109Q1000001 0             776.0           0.0          1  80.0  21.0\n",
      "F109Q1000002 0             771.0           0.0          1  53.0  16.0\n",
      "F109Q1000003 0             731.0           0.0          1  28.0  10.0\n",
      "F109Q1000004 0             755.0           0.0          1  95.0  28.0\n",
      "F109Q1000005 0             732.0          12.0          1  88.0  34.0\n"
     ]
    }
   ],
   "source": [
    "# data wrangling & munging\n",
    "# define is_deliquent at having a deliquent status of greater than or equal to 3 months\n",
    "\n",
    "df_2 = performance.groupby('id_loan').tail(1)\n",
    "df_3 = df_2[df_2.delq_sts != 'R'].copy()\n",
    "df_3.delq_sts = df_3.delq_sts.astype(int)\n",
    "df_3['is_deliquent'] = df_3.delq_sts.apply(lambda x: 1 if x >= 3 else 0)\n",
    "df_3.set_index('id_loan', inplace=True)\n",
    "\n",
    "# Add target variable (is_deliquent) to feature dataset (origination)\n",
    "df_4 = pd.merge(origination, df_3['is_deliquent'], left_index=True, right_index=True)\\\n",
    "    .set_index('is_deliquent', append=True)\n",
    "\n",
    "print(df_4.iloc[:5, :5])"
   ]
  },
  {
   "cell_type": "code",
   "execution_count": 10,
   "metadata": {},
   "outputs": [
    {
     "name": "stdout",
     "output_type": "stream",
     "text": [
      "roc auc values:\n",
      "dti               0.689641\n",
      "interest_rate     0.661880\n",
      "ltv               0.640549\n",
      "cltv              0.640479\n",
      "orig_loan_term    0.568520\n",
      "mort_ins_pct      0.536265\n",
      "num_units         0.512108\n",
      "orig_upb          0.492789\n",
      "fico              0.275149\n",
      "dtype: float64\n"
     ]
    }
   ],
   "source": [
    "# look at roc auc for numeric/continuous features\n",
    "roc_auc_ = df_4[numeric_features].dropna()\n",
    "tgt = roc_auc_.index.get_level_values(1)\n",
    "roc_auc_ = roc_auc_.apply(lambda clmn: roc_auc_score(tgt, clmn)).sort_values(ascending=False)\n",
    "print('roc auc values:')\n",
    "print(roc_auc_)\n",
    "# Cltv slightly lower than ltv\n",
    "numeric_features.remove('cltv')"
   ]
  },
  {
   "cell_type": "code",
   "execution_count": 11,
   "metadata": {},
   "outputs": [
    {
     "name": "stdout",
     "output_type": "stream",
     "text": [
      "                            mutual_info  mutual_info_pct  variance  variance_pct   kount\n",
      "num_borr_2.0                   0.001083         1.000000  0.229381      0.926247  376282\n",
      "loan_purpose_N                 0.000253         0.233968  0.243863      0.984726  338131\n",
      "state_FL                       0.000204         0.188695  0.026831      0.108344   16132\n",
      "channel_R                      0.000173         0.159482  0.247646      1.000000  320700\n",
      "loan_purpose_P                 0.000122         0.112931  0.106574      0.430348   70909\n",
      "is_ppmt_pnlty_nan              0.000106         0.098191  0.004895      0.019766    2876\n",
      "state_CA                       0.000093         0.085950  0.092324      0.372806   60170\n",
      "is_first_time_home_buyer_Y     0.000089         0.082651  0.035374      0.142841   21470\n",
      "state_NY                       0.000075         0.069165  0.026897      0.108612   16173\n",
      "zipcode_48200                  0.000064         0.059101  0.000258      0.001043     151\n",
      "state_NJ                       0.000055         0.051150  0.023818      0.096179   14274\n",
      "msa_33124.0                    0.000054         0.049812  0.001498      0.006048     877\n",
      "msa_35644.0                    0.000051         0.047410  0.010562      0.042651    6242\n",
      "zipcode_33100                  0.000039         0.035901  0.001334      0.005387     781\n",
      "zipcode_11200                  0.000039         0.035601  0.001540      0.006220     902\n",
      "msa_41940.0                    0.000038         0.035040  0.010115      0.040846    5975\n",
      "state_PR                       0.000038         0.034667  0.001191      0.004808     697\n",
      "state_WI                       0.000037         0.034567  0.040132      0.162053   24489\n",
      "msa_16974.0                    0.000037         0.034471  0.037257      0.150446   22661\n",
      "state_WA                       0.000036         0.033445  0.033649      0.135877   20384\n"
     ]
    },
    {
     "data": {
      "image/png": "[encoded data removed]",
      "text/plain": [
       "<Figure size 432x288 with 1 Axes>"
      ]
     },
     "metadata": {
      "needs_background": "light"
     },
     "output_type": "display_data"
    }
   ],
   "source": [
    "# look at variance & mutual information of discrete features and target\n",
    "_ = pd.read_csv(\"~/Desktop/Figure/Figure_mutual_information.csv\", index_col=0)\n",
    "# print(\"computing mutual information of discrete features...\")\n",
    "# st_0 = datetime.now()\n",
    "# target = df_4.index.get_level_values(1).values\n",
    "# discrete_features = df_4.loc[:, \"is_first_time_home_buyer_Y\":]\n",
    "# _ = pd.DataFrame(index=discrete_features.columns, columns=['mutual_info'])\n",
    "# _['mutual_info'] = mutual_info_classif(discrete_features, target, discrete_features=True)\n",
    "# _['mutual_info_pct'] = _['mutual_info']/_.mutual_info.max()\n",
    "# _['variance'] = discrete_features.var()\n",
    "# _['variance_pct'] = _.variance/_.variance.max()\n",
    "# _['kount'] = df_4[_.index].sum()\n",
    "# print(f\"time to compute mutual information = {datetime.now() - st_0}\")\n",
    "\n",
    "# Look at features with maximum mutual information\n",
    "_.sort_values('mutual_info', inplace=True, ascending=False)\n",
    "print(_.head(20))\n",
    "\n",
    "sns.distplot(_.variance)\n",
    "plt.grid()\n",
    "\n",
    "# Save because this takes a long time to run\n",
    "# _.to_csv(\"~/Desktop/Figure/Figure_mutual_information.csv\")"
   ]
  },
  {
   "cell_type": "code",
   "execution_count": 12,
   "metadata": {},
   "outputs": [
    {
     "name": "stdout",
     "output_type": "stream",
     "text": [
      "0    99.272565\n",
      "1     0.727435\n",
      "Name: is_deliquent, dtype: float64\n"
     ]
    }
   ],
   "source": [
    "print(df_4.index.get_level_values(1).value_counts(normalize=True) * 100)\n",
    "# Very imbalanced dataset (only 0.73% deliquent)\n",
    "# AKA 4253 out of 580404"
   ]
  },
  {
   "cell_type": "code",
   "execution_count": 13,
   "metadata": {},
   "outputs": [
    {
     "name": "stdout",
     "output_type": "stream",
     "text": [
      "for variance thresh of 0.05, there are 57 columns\n"
     ]
    }
   ],
   "source": [
    "# Keep features w/variance_pct >= x% & mutual_info >= y%\n",
    "# 57 cols 5%\n",
    "# 126 cols 2%\n",
    "# 259 cols 1%\n",
    "_VARIANCE_THRESH = 0.05\n",
    "cols_to_use = list(_[(_.variance_pct >= _VARIANCE_THRESH) &\n",
    "                     (_.mutual_info_pct >= 0)].index.values) + numeric_features\n",
    "print(f\"for variance thresh of {_VARIANCE_THRESH}, there are {len(cols_to_use)} columns\")\n",
    "df_5 = df_4[cols_to_use]\n"
   ]
  },
  {
   "cell_type": "code",
   "execution_count": 14,
   "metadata": {},
   "outputs": [
    {
     "name": "stdout",
     "output_type": "stream",
     "text": [
      "Sampling fraction of 0.5\n",
      "scale factor = 134.17\n"
     ]
    }
   ],
   "source": [
    "# Modeling - sample data at first\n",
    "_FRACTION = 0.5\n",
    "df_6 = df_5.dropna().sample(frac=_FRACTION)\n",
    "print(f\"Sampling fraction of {_FRACTION}\")\n",
    "X, y = df_6, df_6.index.get_level_values(1)\n",
    "\n",
    "X_train, X_test, y_train, y_test = train_test_split(X, y, test_size=0.30, random_state=0)\n",
    "vals = df_6.index.get_level_values(1).value_counts().values\n",
    "scale_pos_weight = vals[0]/vals[1]\n",
    "print(f\"scale factor = {scale_pos_weight:.2f}\")\n"
   ]
  },
  {
   "cell_type": "code",
   "execution_count": 15,
   "metadata": {},
   "outputs": [
    {
     "name": "stdout",
     "output_type": "stream",
     "text": [
      "current time is 2019-05-03 05:19:04.036294\n",
      "time to train xgboost model: 0:01:15.365170\n"
     ]
    }
   ],
   "source": [
    "# Build xgboost model\n",
    "_FACTOR = 1\n",
    "alg = XGBClassifier(objective='binary:logistic',\n",
    "                    scale_pos_weight=scale_pos_weight * _FACTOR)\n",
    "\n",
    "st_2 = datetime.now()\n",
    "print(f\"current time is {st_2}\")\n",
    "alg.fit(X_train, y_train, eval_metric='auc')\n",
    "print(f\"time to train xgboost model: {datetime.now() - st_2}\")\n",
    "# for variance thresholding of 0.05\n",
    "# 57 columns\n",
    "# 2:24.559159 for frac=0.75\n",
    "# for variance thresholding of 0.04\n",
    "# 2:00.148950 for frac=0.5\n",
    "# for variance thresholding of 0.01\n",
    "# 3:56.082855 for frac=0.25\n",
    "# for variance thresholding of 0.02\n",
    "# 5:27.515833 for frac=0.75\n",
    "# 4:27.912570 for frac=0.5\n",
    "# 1:15.503807 for frac=0.25"
   ]
  },
  {
   "cell_type": "code",
   "execution_count": 16,
   "metadata": {},
   "outputs": [
    {
     "name": "stdout",
     "output_type": "stream",
     "text": [
      "confusion matrix:\n",
      " col_0      0     1\n",
      "row_0             \n",
      "0      73.68  0.20\n",
      "1      25.55  0.58\n",
      "accuracy score : 0.74\n",
      "roc auc score: 0.83\n",
      "f1 score: 0.04\n"
     ]
    }
   ],
   "source": [
    "# Examine predictions\n",
    "predictions = alg.predict(X_test)\n",
    "pred_proba = alg.predict_proba(X_test)[:, 1]\n",
    "print(f\"confusion matrix:\\n {round(pd.crosstab(predictions, y_test, normalize=True)*100, 2)}\")\n",
    "print(f\"accuracy score : {accuracy_score(y_test, predictions):.2f}\")\n",
    "print(f\"roc auc score: {roc_auc_score(y_test, pred_proba):.2f}\")\n",
    "print(f\"f1 score: {f1_score(y_test, predictions):.2f}\")"
   ]
  },
  {
   "cell_type": "code",
   "execution_count": 17,
   "metadata": {},
   "outputs": [
    {
     "data": {
      "image/png": "[encoded data removed]",
      "text/plain": [
       "<Figure size 432x288 with 1 Axes>"
      ]
     },
     "metadata": {
      "needs_background": "light"
     },
     "output_type": "display_data"
    }
   ],
   "source": [
    "# Examine ROC curve\n",
    "fpr, tpr, nope = roc_curve(y_test,  pred_proba)\n",
    "auc = roc_auc_score(y_test, pred_proba)\n",
    "plt.plot(fpr, tpr, label=f\"auc = {auc:.2f}\")\n",
    "plt.grid()\n",
    "plt.legend(loc=4)\n",
    "plt.show()"
   ]
  },
  {
   "cell_type": "code",
   "execution_count": 26,
   "metadata": {},
   "outputs": [
    {
     "name": "stdout",
     "output_type": "stream",
     "text": [
      "                         feature  feature_importance  mutual_info_pct  variance_pct     kount   roc_auc\n",
      "0                           fico            0.106943              NaN           NaN       NaN  0.275149\n",
      "1                   num_borr_2.0            0.095404         1.000000      0.926247  376282.0       NaN\n",
      "2                            dti            0.071039              NaN           NaN       NaN  0.689641\n",
      "3                 orig_loan_term            0.061034              NaN           NaN       NaN  0.568520\n",
      "4                            ltv            0.049008              NaN           NaN       NaN  0.640549\n",
      "5                  interest_rate            0.043888              NaN           NaN       NaN  0.661880\n",
      "6                       state_CA            0.033557         0.085950      0.372806   60170.0       NaN\n",
      "7                       state_FL            0.032832         0.188695      0.108344   16132.0       NaN\n",
      "8                       state_WA            0.027758         0.033445      0.135877   20384.0       NaN\n",
      "9                   mort_ins_pct            0.026362              NaN           NaN       NaN  0.536265\n",
      "10                      state_TX            0.025931         0.010792      0.154875   23357.0       NaN\n",
      "11                     channel_R            0.025723         0.159482      1.000000  320700.0       NaN\n",
      "12                      state_PA            0.022270         0.000945      0.126116   18869.0       NaN\n",
      "13                      state_WI            0.018811         0.034567      0.162053   24489.0       NaN\n",
      "14                loan_purpose_P            0.016937         0.112931      0.430348   70909.0       NaN\n",
      "15                      state_NJ            0.016759         0.051150      0.096179   14274.0       NaN\n",
      "16                      orig_upb            0.016732              NaN           NaN       NaN  0.492789\n",
      "17                       msa_nan            0.016573         0.000957      0.556070   96410.0       NaN\n",
      "18                      state_UT            0.015984         0.000106      0.084137   12447.0       NaN\n",
      "19                   msa_47894.0            0.015544         0.009959      0.072562   10702.0       NaN\n",
      "20                loan_purpose_N            0.015340         0.233968      0.984726  338131.0       NaN\n",
      "21                   msa_41180.0            0.015156         0.012472      0.075069   11079.0       NaN\n",
      "22                      state_TN            0.014290         0.003906      0.067031    9872.0       NaN\n",
      "23                      state_AZ            0.014055         0.016108      0.074564   11003.0       NaN\n",
      "24                   msa_19740.0            0.013731         0.019667      0.056136    8244.0       NaN\n",
      "25                     channel_C            0.013617         0.004879      0.757749  146343.0       NaN\n",
      "26                  prop_type_PU            0.013582         0.027014      0.636763  114696.0       NaN\n",
      "27                      state_NY            0.013544         0.069165      0.108612   16173.0       NaN\n",
      "28                      state_VA            0.013278         0.019129      0.130942   19617.0       NaN\n",
      "29                   msa_31084.0            0.012986         0.013310      0.075049   11076.0       NaN\n",
      "30                      state_MA            0.012973         0.008490      0.128866   19295.0       NaN\n",
      "31                      state_KY            0.012646         0.002662      0.074185   10946.0       NaN\n",
      "32                      state_GA            0.011784         0.011231      0.121737   18192.0       NaN\n",
      "33                      state_MN            0.011780         0.029423      0.103947   15459.0       NaN\n",
      "34                   msa_12060.0            0.011335         0.009276      0.077579   11457.0       NaN\n",
      "35  is_first_time_home_buyer_nan            0.011305         0.020558      0.785178  154525.0       NaN\n",
      "36                      state_MI            0.011174         0.021180      0.121452   18148.0       NaN\n",
      "37                     num_units            0.011022              NaN           NaN       NaN  0.512108\n",
      "38                      state_MO            0.010171         0.008084      0.115690   17260.0       NaN\n",
      "39                   occpy_sts_S            0.008946         0.004228      0.146944   22112.0       NaN\n",
      "40                  prop_type_SF            0.008198         0.002200      0.759285  437868.0       NaN\n",
      "41                   msa_16974.0            0.000000         0.034471      0.150446   22661.0       NaN\n",
      "42                      state_NC            0.000000         0.000100      0.175918   26689.0       NaN\n",
      "43    is_first_time_home_buyer_Y            0.000000         0.082651      0.142841   21470.0       NaN\n",
      "44       is_super_conforming_nan            0.000000         0.027152      0.070332  574290.0       NaN\n",
      "45                      state_IN            0.000000         0.023005      0.120389   17984.0       NaN\n",
      "46                   msa_38900.0            0.000000         0.001126      0.053268    7817.0       NaN\n",
      "47                      state_MD            0.000000         0.001539      0.098608   14644.0       NaN\n",
      "48                      state_IL            0.000000         0.003446      0.262918   40933.0       NaN\n",
      "49                      state_OR            0.000000         0.003643      0.077254   11408.0       NaN\n",
      "50                      state_SC            0.000000         0.005907      0.065556    9651.0       NaN\n",
      "51                   msa_33460.0            0.000000         0.008587      0.068159   10041.0       NaN\n",
      "52                   msa_38060.0            0.000000         0.011916      0.051674    7580.0       NaN\n",
      "53                      state_OH            0.000000         0.012235      0.124494   18618.0       NaN\n",
      "54                      state_CO            0.000000         0.014667      0.111122   16558.0       NaN\n",
      "55                   occpy_sts_P            0.000000         0.016943      0.226521  549779.0       NaN\n",
      "56                   msa_42644.0            0.000000         0.009465      0.061966    9114.0       NaN\n"
     ]
    }
   ],
   "source": [
    "# Examine feature importances given by model\n",
    "feat_imp = alg.feature_importances_\n",
    "feat = X_train.columns\n",
    "res_df = pd.DataFrame({'feature': feat, 'feature_importance': feat_imp})\\\n",
    "    .sort_values(by='feature_importance', ascending=False)\n",
    "\n",
    "res_df = pd.merge(res_df, _, left_on='feature', right_index=True, how='left')\n",
    "res_df = pd.merge(res_df,\n",
    "                  roc_auc_.to_frame(name='roc_auc').reset_index().rename(columns={'index': 'feature'}),\n",
    "                  on='feature',\n",
    "                  how='left')\n",
    "res_df = res_df[['feature', 'feature_importance', 'mutual_info_pct', 'variance_pct', 'kount', 'roc_auc']]\n",
    "print(res_df)"
   ]
  },
  {
   "cell_type": "code",
   "execution_count": 19,
   "metadata": {},
   "outputs": [],
   "source": [
    "# Discussion & questions"
   ]
  }
 ],
 "metadata": {
  "kernelspec": {
   "display_name": "Python 3",
   "language": "python",
   "name": "python3"
  },
  "language_info": {
   "codemirror_mode": {
    "name": "ipython",
    "version": 3
   },
   "file_extension": ".py",
   "mimetype": "text/x-python",
   "name": "python",
   "nbconvert_exporter": "python",
   "pygments_lexer": "ipython3",
   "version": "3.7.3"
  }
 },
 "nbformat": 4,
 "nbformat_minor": 2
}
